{
  "cells": [
    {
      "cell_type": "markdown",
      "metadata": {
        "id": "z8UK1sdxD8wp"
      },
      "source": [
        "### `Importing required libraries`"
      ]
    },
    {
      "cell_type": "code",
      "execution_count": null,
      "metadata": {
        "id": "YFrYcEKIWJu7"
      },
      "outputs": [],
      "source": [
        "# Import all necessary libraries\n",
        "import seaborn as sns\n",
        "import numpy as np\n",
        "from sklearn.metrics import log_loss\n",
        "import pandas as pd\n",
        "from scipy.stats import skew,kurtosis,zscore\n",
        "from sklearn.metrics import accuracy_score\n",
        "import matplotlib.pyplot as plt\n",
        "import seaborn as sns\n",
        "import scipy.stats as stat\n",
        "from matplotlib import pylab\n",
        "from pylab import *\n",
        "from imblearn.over_sampling import SMOTE\n",
        "from collections import Counter\n",
        "import warnings\n",
        "warnings.filterwarnings(\"ignore\")"
      ]
    },
    {
      "cell_type": "markdown",
      "metadata": {
        "id": "BIPbFPSJECV4"
      },
      "source": [
        "# Importing the dataset"
      ]
    },
    {
      "cell_type": "code",
      "execution_count": null,
      "metadata": {
        "id": "8p72vQLMWQXv"
      },
      "outputs": [],
      "source": [
        "# Load the dataset using pandas\n",
        "train_df = pd.read_csv('Train.csv')\n",
        "test_df = pd.read_csv('Test.csv')"
      ]
    },
    {
      "cell_type": "code",
      "execution_count": null,
      "metadata": {
        "id": "tfka2U14WQW0"
      },
      "outputs": [],
      "source": [
        "# Make a copy of the dataset \n",
        "df =  train_df\n",
        "\n"
      ]
    },
    {
      "cell_type": "markdown",
      "metadata": {
        "id": "twmNC-elElov"
      },
      "source": [
        "# Get the total number of samples in the dataset using the len() function"
      ]
    },
    {
      "cell_type": "code",
      "execution_count": null,
      "metadata": {
        "colab": {
          "base_uri": "https://localhost:8080/"
        },
        "id": "P9gKvWYeWQCB",
        "outputId": "d78cc181-633e-45e4-cc9d-97996f33ba38"
      },
      "outputs": [
        {
          "output_type": "stream",
          "name": "stdout",
          "text": [
            "train data length: 18208\n",
            "test data length : 12140\n"
          ]
        }
      ],
      "source": [
        "# check the lenght of test and train dataset\n",
        "\n",
        "\n",
        "print('train data length:',len(train_df))\n",
        "print('test data length :',len(test_df))"
      ]
    },
    {
      "cell_type": "markdown",
      "metadata": {
        "id": "MITFNop3wIcL"
      },
      "source": [
        "## Get unique values"
      ]
    },
    {
      "cell_type": "code",
      "execution_count": null,
      "metadata": {
        "colab": {
          "base_uri": "https://localhost:8080/"
        },
        "id": "cFdonqvzwQqq",
        "outputId": "23650776-6a14-4893-dff0-bcb453a6f636"
      },
      "outputs": [
        {
          "output_type": "stream",
          "name": "stdout",
          "text": [
            "Store_Ratio : 1053\n",
            "Basket_Ratio : 1993\n",
            "Category_1 : 12\n",
            "Store_Score : 10758\n",
            "Category_2 : 2\n",
            "Store_Presence : 2832\n",
            "Score_1 : 3668\n",
            "Score_2 : 1385\n",
            "Score_3 : 1591\n",
            "Score_4 : 12943\n",
            "time : 12755\n",
            "popularity : 5\n"
          ]
        }
      ],
      "source": [
        "# get unique values in train dataset\n",
        "\n",
        "for x in train_df.columns:\n",
        "  print(x,':',len(train_df[x].unique()))\n"
      ]
    },
    {
      "cell_type": "code",
      "execution_count": null,
      "metadata": {
        "colab": {
          "base_uri": "https://localhost:8080/"
        },
        "id": "xKRTVui8wV20",
        "outputId": "a5238d49-d465-472a-893b-9e7a9e175ceb"
      },
      "outputs": [
        {
          "output_type": "stream",
          "name": "stdout",
          "text": [
            "Store_Ratio : 1010\n",
            "Basket_Ratio : 1811\n",
            "Category_1 : 12\n",
            "Store_Score : 8300\n",
            "Category_2 : 2\n",
            "Store_Presence : 2507\n",
            "Score_1 : 3064\n",
            "Score_2 : 1275\n",
            "Score_3 : 1491\n",
            "Score_4 : 9463\n",
            "time : 9301\n"
          ]
        }
      ],
      "source": [
        "# get unique values in test dataset\n",
        "\n",
        "for x in test_df.columns:\n",
        "  print(x,':',len(test_df[x].unique()))\n"
      ]
    },
    {
      "cell_type": "markdown",
      "metadata": {
        "id": "QyGeJDj8E5xq"
      },
      "source": [
        "# EDA"
      ]
    },
    {
      "cell_type": "code",
      "execution_count": null,
      "metadata": {
        "colab": {
          "base_uri": "https://localhost:8080/",
          "height": 446
        },
        "id": "ILOr-OdjWPzx",
        "outputId": "66379526-7473-4b82-e0b0-f969bb3de515"
      },
      "outputs": [
        {
          "output_type": "execute_result",
          "data": {
            "text/plain": [
              "<pandas.io.formats.style.Styler at 0x7f2040816550>"
            ],
            "text/html": [
              "<style type=\"text/css\">\n",
              "#T_7c75a_row0_col0, #T_7c75a_row1_col1, #T_7c75a_row2_col2, #T_7c75a_row3_col3, #T_7c75a_row4_col4, #T_7c75a_row5_col5, #T_7c75a_row6_col6, #T_7c75a_row7_col7, #T_7c75a_row8_col8, #T_7c75a_row9_col9, #T_7c75a_row10_col10, #T_7c75a_row11_col11 {\n",
              "  background-color: #b40426;\n",
              "  color: #f1f1f1;\n",
              "}\n",
              "#T_7c75a_row0_col1 {\n",
              "  background-color: #f7aa8c;\n",
              "  color: #000000;\n",
              "}\n",
              "#T_7c75a_row0_col2, #T_7c75a_row0_col6, #T_7c75a_row10_col7 {\n",
              "  background-color: #6c8ff1;\n",
              "  color: #f1f1f1;\n",
              "}\n",
              "#T_7c75a_row0_col3 {\n",
              "  background-color: #f29274;\n",
              "  color: #f1f1f1;\n",
              "}\n",
              "#T_7c75a_row0_col4 {\n",
              "  background-color: #445acc;\n",
              "  color: #f1f1f1;\n",
              "}\n",
              "#T_7c75a_row0_col5, #T_7c75a_row1_col10 {\n",
              "  background-color: #799cf8;\n",
              "  color: #f1f1f1;\n",
              "}\n",
              "#T_7c75a_row0_col7, #T_7c75a_row9_col2, #T_7c75a_row9_col10, #T_7c75a_row11_col2 {\n",
              "  background-color: #6282ea;\n",
              "  color: #f1f1f1;\n",
              "}\n",
              "#T_7c75a_row0_col8, #T_7c75a_row8_col0 {\n",
              "  background-color: #f59c7d;\n",
              "  color: #000000;\n",
              "}\n",
              "#T_7c75a_row0_col9 {\n",
              "  background-color: #97b8ff;\n",
              "  color: #000000;\n",
              "}\n",
              "#T_7c75a_row0_col10 {\n",
              "  background-color: #485fd1;\n",
              "  color: #f1f1f1;\n",
              "}\n",
              "#T_7c75a_row0_col11 {\n",
              "  background-color: #b2ccfb;\n",
              "  color: #000000;\n",
              "}\n",
              "#T_7c75a_row1_col0 {\n",
              "  background-color: #f5c0a7;\n",
              "  color: #000000;\n",
              "}\n",
              "#T_7c75a_row1_col2 {\n",
              "  background-color: #7093f3;\n",
              "  color: #f1f1f1;\n",
              "}\n",
              "#T_7c75a_row1_col3 {\n",
              "  background-color: #d65244;\n",
              "  color: #f1f1f1;\n",
              "}\n",
              "#T_7c75a_row1_col4 {\n",
              "  background-color: #4055c8;\n",
              "  color: #f1f1f1;\n",
              "}\n",
              "#T_7c75a_row1_col5, #T_7c75a_row2_col4, #T_7c75a_row3_col6, #T_7c75a_row4_col2, #T_7c75a_row5_col0, #T_7c75a_row5_col1, #T_7c75a_row5_col3, #T_7c75a_row5_col7, #T_7c75a_row5_col9, #T_7c75a_row5_col11, #T_7c75a_row6_col3, #T_7c75a_row6_col8, #T_7c75a_row6_col10 {\n",
              "  background-color: #3b4cc0;\n",
              "  color: #f1f1f1;\n",
              "}\n",
              "#T_7c75a_row1_col6 {\n",
              "  background-color: #4e68d8;\n",
              "  color: #f1f1f1;\n",
              "}\n",
              "#T_7c75a_row1_col7 {\n",
              "  background-color: #bed2f6;\n",
              "  color: #000000;\n",
              "}\n",
              "#T_7c75a_row1_col8 {\n",
              "  background-color: #f7b497;\n",
              "  color: #000000;\n",
              "}\n",
              "#T_7c75a_row1_col9, #T_7c75a_row4_col1 {\n",
              "  background-color: #bcd2f7;\n",
              "  color: #000000;\n",
              "}\n",
              "#T_7c75a_row1_col11, #T_7c75a_row8_col9, #T_7c75a_row9_col5, #T_7c75a_row10_col8 {\n",
              "  background-color: #a9c6fd;\n",
              "  color: #000000;\n",
              "}\n",
              "#T_7c75a_row2_col0 {\n",
              "  background-color: #afcafc;\n",
              "  color: #000000;\n",
              "}\n",
              "#T_7c75a_row2_col1, #T_7c75a_row11_col0 {\n",
              "  background-color: #d7dce3;\n",
              "  color: #000000;\n",
              "}\n",
              "#T_7c75a_row2_col3 {\n",
              "  background-color: #cedaeb;\n",
              "  color: #000000;\n",
              "}\n",
              "#T_7c75a_row2_col5 {\n",
              "  background-color: #c7d7f0;\n",
              "  color: #000000;\n",
              "}\n",
              "#T_7c75a_row2_col6 {\n",
              "  background-color: #c1d4f4;\n",
              "  color: #000000;\n",
              "}\n",
              "#T_7c75a_row2_col7, #T_7c75a_row9_col7 {\n",
              "  background-color: #7396f5;\n",
              "  color: #f1f1f1;\n",
              "}\n",
              "#T_7c75a_row2_col8, #T_7c75a_row7_col5, #T_7c75a_row7_col8, #T_7c75a_row11_col5 {\n",
              "  background-color: #aec9fc;\n",
              "  color: #000000;\n",
              "}\n",
              "#T_7c75a_row2_col9 {\n",
              "  background-color: #7699f6;\n",
              "  color: #f1f1f1;\n",
              "}\n",
              "#T_7c75a_row2_col10, #T_7c75a_row4_col10, #T_7c75a_row7_col4, #T_7c75a_row11_col4 {\n",
              "  background-color: #5673e0;\n",
              "  color: #f1f1f1;\n",
              "}\n",
              "#T_7c75a_row2_col11, #T_7c75a_row7_col11 {\n",
              "  background-color: #6f92f3;\n",
              "  color: #f1f1f1;\n",
              "}\n",
              "#T_7c75a_row3_col0 {\n",
              "  background-color: #f6a283;\n",
              "  color: #000000;\n",
              "}\n",
              "#T_7c75a_row3_col1 {\n",
              "  background-color: #d55042;\n",
              "  color: #f1f1f1;\n",
              "}\n",
              "#T_7c75a_row3_col2, #T_7c75a_row11_col7 {\n",
              "  background-color: #6e90f2;\n",
              "  color: #f1f1f1;\n",
              "}\n",
              "#T_7c75a_row3_col4 {\n",
              "  background-color: #4961d2;\n",
              "  color: #f1f1f1;\n",
              "}\n",
              "#T_7c75a_row3_col5 {\n",
              "  background-color: #4a63d3;\n",
              "  color: #f1f1f1;\n",
              "}\n",
              "#T_7c75a_row3_col7 {\n",
              "  background-color: #98b9ff;\n",
              "  color: #000000;\n",
              "}\n",
              "#T_7c75a_row3_col8 {\n",
              "  background-color: #f7b599;\n",
              "  color: #000000;\n",
              "}\n",
              "#T_7c75a_row3_col9 {\n",
              "  background-color: #bfd3f6;\n",
              "  color: #000000;\n",
              "}\n",
              "#T_7c75a_row3_col10 {\n",
              "  background-color: #7295f4;\n",
              "  color: #f1f1f1;\n",
              "}\n",
              "#T_7c75a_row3_col11 {\n",
              "  background-color: #aac7fd;\n",
              "  color: #000000;\n",
              "}\n",
              "#T_7c75a_row4_col0 {\n",
              "  background-color: #8db0fe;\n",
              "  color: #000000;\n",
              "}\n",
              "#T_7c75a_row4_col3 {\n",
              "  background-color: #b6cefa;\n",
              "  color: #000000;\n",
              "}\n",
              "#T_7c75a_row4_col5 {\n",
              "  background-color: #dfdbd9;\n",
              "  color: #000000;\n",
              "}\n",
              "#T_7c75a_row4_col6 {\n",
              "  background-color: #cad8ef;\n",
              "  color: #000000;\n",
              "}\n",
              "#T_7c75a_row4_col7 {\n",
              "  background-color: #6384eb;\n",
              "  color: #f1f1f1;\n",
              "}\n",
              "#T_7c75a_row4_col8 {\n",
              "  background-color: #9bbcff;\n",
              "  color: #000000;\n",
              "}\n",
              "#T_7c75a_row4_col9 {\n",
              "  background-color: #6788ee;\n",
              "  color: #f1f1f1;\n",
              "}\n",
              "#T_7c75a_row4_col11 {\n",
              "  background-color: #6485ec;\n",
              "  color: #f1f1f1;\n",
              "}\n",
              "#T_7c75a_row5_col2 {\n",
              "  background-color: #536edd;\n",
              "  color: #f1f1f1;\n",
              "}\n",
              "#T_7c75a_row5_col4, #T_7c75a_row8_col5 {\n",
              "  background-color: #80a3fa;\n",
              "  color: #f1f1f1;\n",
              "}\n",
              "#T_7c75a_row5_col6 {\n",
              "  background-color: #f4987a;\n",
              "  color: #000000;\n",
              "}\n",
              "#T_7c75a_row5_col8 {\n",
              "  background-color: #4358cb;\n",
              "  color: #f1f1f1;\n",
              "}\n",
              "#T_7c75a_row5_col10 {\n",
              "  background-color: #455cce;\n",
              "  color: #f1f1f1;\n",
              "}\n",
              "#T_7c75a_row6_col0 {\n",
              "  background-color: #3e51c5;\n",
              "  color: #f1f1f1;\n",
              "}\n",
              "#T_7c75a_row6_col1, #T_7c75a_row10_col4 {\n",
              "  background-color: #5e7de7;\n",
              "  color: #f1f1f1;\n",
              "}\n",
              "#T_7c75a_row6_col2 {\n",
              "  background-color: #5875e1;\n",
              "  color: #f1f1f1;\n",
              "}\n",
              "#T_7c75a_row6_col4, #T_7c75a_row7_col2 {\n",
              "  background-color: #6687ed;\n",
              "  color: #f1f1f1;\n",
              "}\n",
              "#T_7c75a_row6_col5 {\n",
              "  background-color: #f39475;\n",
              "  color: #000000;\n",
              "}\n",
              "#T_7c75a_row6_col7 {\n",
              "  background-color: #506bda;\n",
              "  color: #f1f1f1;\n",
              "}\n",
              "#T_7c75a_row6_col9 {\n",
              "  background-color: #3f53c6;\n",
              "  color: #f1f1f1;\n",
              "}\n",
              "#T_7c75a_row6_col11 {\n",
              "  background-color: #4257c9;\n",
              "  color: #f1f1f1;\n",
              "}\n",
              "#T_7c75a_row7_col0 {\n",
              "  background-color: #9dbdff;\n",
              "  color: #000000;\n",
              "}\n",
              "#T_7c75a_row7_col1 {\n",
              "  background-color: #f2cab5;\n",
              "  color: #000000;\n",
              "}\n",
              "#T_7c75a_row7_col3, #T_7c75a_row10_col1 {\n",
              "  background-color: #dedcdb;\n",
              "  color: #000000;\n",
              "}\n",
              "#T_7c75a_row7_col6 {\n",
              "  background-color: #b3cdfb;\n",
              "  color: #000000;\n",
              "}\n",
              "#T_7c75a_row7_col9 {\n",
              "  background-color: #7a9df8;\n",
              "  color: #f1f1f1;\n",
              "}\n",
              "#T_7c75a_row7_col10 {\n",
              "  background-color: #5977e3;\n",
              "  color: #f1f1f1;\n",
              "}\n",
              "#T_7c75a_row8_col1 {\n",
              "  background-color: #f59d7e;\n",
              "  color: #000000;\n",
              "}\n",
              "#T_7c75a_row8_col2 {\n",
              "  background-color: #6b8df0;\n",
              "  color: #f1f1f1;\n",
              "}\n",
              "#T_7c75a_row8_col3 {\n",
              "  background-color: #f6a586;\n",
              "  color: #000000;\n",
              "}\n",
              "#T_7c75a_row8_col4, #T_7c75a_row9_col4 {\n",
              "  background-color: #5470de;\n",
              "  color: #f1f1f1;\n",
              "}\n",
              "#T_7c75a_row8_col6 {\n",
              "  background-color: #688aef;\n",
              "  color: #f1f1f1;\n",
              "}\n",
              "#T_7c75a_row8_col7 {\n",
              "  background-color: #779af7;\n",
              "  color: #f1f1f1;\n",
              "}\n",
              "#T_7c75a_row8_col10, #T_7c75a_row10_col2 {\n",
              "  background-color: #5d7ce6;\n",
              "  color: #f1f1f1;\n",
              "}\n",
              "#T_7c75a_row8_col11 {\n",
              "  background-color: #a2c1ff;\n",
              "  color: #000000;\n",
              "}\n",
              "#T_7c75a_row9_col0 {\n",
              "  background-color: #c0d4f5;\n",
              "  color: #000000;\n",
              "}\n",
              "#T_7c75a_row9_col1 {\n",
              "  background-color: #f1cdba;\n",
              "  color: #000000;\n",
              "}\n",
              "#T_7c75a_row9_col3 {\n",
              "  background-color: #edd1c2;\n",
              "  color: #000000;\n",
              "}\n",
              "#T_7c75a_row9_col6 {\n",
              "  background-color: #9fbfff;\n",
              "  color: #000000;\n",
              "}\n",
              "#T_7c75a_row9_col8, #T_7c75a_row11_col8 {\n",
              "  background-color: #cdd9ec;\n",
              "  color: #000000;\n",
              "}\n",
              "#T_7c75a_row9_col11 {\n",
              "  background-color: #7b9ff9;\n",
              "  color: #f1f1f1;\n",
              "}\n",
              "#T_7c75a_row10_col0 {\n",
              "  background-color: #96b7ff;\n",
              "  color: #000000;\n",
              "}\n",
              "#T_7c75a_row10_col3 {\n",
              "  background-color: #d4dbe6;\n",
              "  color: #000000;\n",
              "}\n",
              "#T_7c75a_row10_col5 {\n",
              "  background-color: #c4d5f3;\n",
              "  color: #000000;\n",
              "}\n",
              "#T_7c75a_row10_col6 {\n",
              "  background-color: #b1cbfc;\n",
              "  color: #000000;\n",
              "}\n",
              "#T_7c75a_row10_col9 {\n",
              "  background-color: #7da0f9;\n",
              "  color: #f1f1f1;\n",
              "}\n",
              "#T_7c75a_row10_col11 {\n",
              "  background-color: #7597f6;\n",
              "  color: #f1f1f1;\n",
              "}\n",
              "#T_7c75a_row11_col1 {\n",
              "  background-color: #ebd3c6;\n",
              "  color: #000000;\n",
              "}\n",
              "#T_7c75a_row11_col3 {\n",
              "  background-color: #e7d7ce;\n",
              "  color: #000000;\n",
              "}\n",
              "#T_7c75a_row11_col6 {\n",
              "  background-color: #a7c5fe;\n",
              "  color: #000000;\n",
              "}\n",
              "#T_7c75a_row11_col9 {\n",
              "  background-color: #81a4fb;\n",
              "  color: #f1f1f1;\n",
              "}\n",
              "#T_7c75a_row11_col10 {\n",
              "  background-color: #5f7fe8;\n",
              "  color: #f1f1f1;\n",
              "}\n",
              "</style>\n",
              "<table id=\"T_7c75a_\" class=\"dataframe\">\n",
              "  <thead>\n",
              "    <tr>\n",
              "      <th class=\"blank level0\" >&nbsp;</th>\n",
              "      <th class=\"col_heading level0 col0\" >Store_Ratio</th>\n",
              "      <th class=\"col_heading level0 col1\" >Basket_Ratio</th>\n",
              "      <th class=\"col_heading level0 col2\" >Category_1</th>\n",
              "      <th class=\"col_heading level0 col3\" >Store_Score</th>\n",
              "      <th class=\"col_heading level0 col4\" >Category_2</th>\n",
              "      <th class=\"col_heading level0 col5\" >Store_Presence</th>\n",
              "      <th class=\"col_heading level0 col6\" >Score_1</th>\n",
              "      <th class=\"col_heading level0 col7\" >Score_2</th>\n",
              "      <th class=\"col_heading level0 col8\" >Score_3</th>\n",
              "      <th class=\"col_heading level0 col9\" >Score_4</th>\n",
              "      <th class=\"col_heading level0 col10\" >time</th>\n",
              "      <th class=\"col_heading level0 col11\" >popularity</th>\n",
              "    </tr>\n",
              "  </thead>\n",
              "  <tbody>\n",
              "    <tr>\n",
              "      <th id=\"T_7c75a_level0_row0\" class=\"row_heading level0 row0\" >Store_Ratio</th>\n",
              "      <td id=\"T_7c75a_row0_col0\" class=\"data row0 col0\" >1.00</td>\n",
              "      <td id=\"T_7c75a_row0_col1\" class=\"data row0 col1\" >0.47</td>\n",
              "      <td id=\"T_7c75a_row0_col2\" class=\"data row0 col2\" >0.04</td>\n",
              "      <td id=\"T_7c75a_row0_col3\" class=\"data row0 col3\" >0.60</td>\n",
              "      <td id=\"T_7c75a_row0_col4\" class=\"data row0 col4\" >-0.10</td>\n",
              "      <td id=\"T_7c75a_row0_col5\" class=\"data row0 col5\" >-0.47</td>\n",
              "      <td id=\"T_7c75a_row0_col6\" class=\"data row0 col6\" >-0.45</td>\n",
              "      <td id=\"T_7c75a_row0_col7\" class=\"data row0 col7\" >-0.04</td>\n",
              "      <td id=\"T_7c75a_row0_col8\" class=\"data row0 col8\" >0.62</td>\n",
              "      <td id=\"T_7c75a_row0_col9\" class=\"data row0 col9\" >0.12</td>\n",
              "      <td id=\"T_7c75a_row0_col10\" class=\"data row0 col10\" >-0.06</td>\n",
              "      <td id=\"T_7c75a_row0_col11\" class=\"data row0 col11\" >0.23</td>\n",
              "    </tr>\n",
              "    <tr>\n",
              "      <th id=\"T_7c75a_level0_row1\" class=\"row_heading level0 row1\" >Basket_Ratio</th>\n",
              "      <td id=\"T_7c75a_row1_col0\" class=\"data row1 col0\" >0.47</td>\n",
              "      <td id=\"T_7c75a_row1_col1\" class=\"data row1 col1\" >1.00</td>\n",
              "      <td id=\"T_7c75a_row1_col2\" class=\"data row1 col2\" >0.05</td>\n",
              "      <td id=\"T_7c75a_row1_col3\" class=\"data row1 col3\" >0.83</td>\n",
              "      <td id=\"T_7c75a_row1_col4\" class=\"data row1 col4\" >-0.11</td>\n",
              "      <td id=\"T_7c75a_row1_col5\" class=\"data row1 col5\" >-0.82</td>\n",
              "      <td id=\"T_7c75a_row1_col6\" class=\"data row1 col6\" >-0.61</td>\n",
              "      <td id=\"T_7c75a_row1_col7\" class=\"data row1 col7\" >0.28</td>\n",
              "      <td id=\"T_7c75a_row1_col8\" class=\"data row1 col8\" >0.53</td>\n",
              "      <td id=\"T_7c75a_row1_col9\" class=\"data row1 col9\" >0.25</td>\n",
              "      <td id=\"T_7c75a_row1_col10\" class=\"data row1 col10\" >0.10</td>\n",
              "      <td id=\"T_7c75a_row1_col11\" class=\"data row1 col11\" >0.20</td>\n",
              "    </tr>\n",
              "    <tr>\n",
              "      <th id=\"T_7c75a_level0_row2\" class=\"row_heading level0 row2\" >Category_1</th>\n",
              "      <td id=\"T_7c75a_row2_col0\" class=\"data row2 col0\" >0.04</td>\n",
              "      <td id=\"T_7c75a_row2_col1\" class=\"data row2 col1\" >0.05</td>\n",
              "      <td id=\"T_7c75a_row2_col2\" class=\"data row2 col2\" >1.00</td>\n",
              "      <td id=\"T_7c75a_row2_col3\" class=\"data row2 col3\" >0.04</td>\n",
              "      <td id=\"T_7c75a_row2_col4\" class=\"data row2 col4\" >-0.14</td>\n",
              "      <td id=\"T_7c75a_row2_col5\" class=\"data row2 col5\" >-0.05</td>\n",
              "      <td id=\"T_7c75a_row2_col6\" class=\"data row2 col6\" >-0.03</td>\n",
              "      <td id=\"T_7c75a_row2_col7\" class=\"data row2 col7\" >0.02</td>\n",
              "      <td id=\"T_7c75a_row2_col8\" class=\"data row2 col8\" >0.04</td>\n",
              "      <td id=\"T_7c75a_row2_col9\" class=\"data row2 col9\" >0.00</td>\n",
              "      <td id=\"T_7c75a_row2_col10\" class=\"data row2 col10\" >-0.01</td>\n",
              "      <td id=\"T_7c75a_row2_col11\" class=\"data row2 col11\" >0.00</td>\n",
              "    </tr>\n",
              "    <tr>\n",
              "      <th id=\"T_7c75a_level0_row3\" class=\"row_heading level0 row3\" >Store_Score</th>\n",
              "      <td id=\"T_7c75a_row3_col0\" class=\"data row3 col0\" >0.60</td>\n",
              "      <td id=\"T_7c75a_row3_col1\" class=\"data row3 col1\" >0.83</td>\n",
              "      <td id=\"T_7c75a_row3_col2\" class=\"data row3 col2\" >0.04</td>\n",
              "      <td id=\"T_7c75a_row3_col3\" class=\"data row3 col3\" >1.00</td>\n",
              "      <td id=\"T_7c75a_row3_col4\" class=\"data row3 col4\" >-0.09</td>\n",
              "      <td id=\"T_7c75a_row3_col5\" class=\"data row3 col5\" >-0.72</td>\n",
              "      <td id=\"T_7c75a_row3_col6\" class=\"data row3 col6\" >-0.73</td>\n",
              "      <td id=\"T_7c75a_row3_col7\" class=\"data row3 col7\" >0.15</td>\n",
              "      <td id=\"T_7c75a_row3_col8\" class=\"data row3 col8\" >0.52</td>\n",
              "      <td id=\"T_7c75a_row3_col9\" class=\"data row3 col9\" >0.26</td>\n",
              "      <td id=\"T_7c75a_row3_col10\" class=\"data row3 col10\" >0.08</td>\n",
              "      <td id=\"T_7c75a_row3_col11\" class=\"data row3 col11\" >0.20</td>\n",
              "    </tr>\n",
              "    <tr>\n",
              "      <th id=\"T_7c75a_level0_row4\" class=\"row_heading level0 row4\" >Category_2</th>\n",
              "      <td id=\"T_7c75a_row4_col0\" class=\"data row4 col0\" >-0.10</td>\n",
              "      <td id=\"T_7c75a_row4_col1\" class=\"data row4 col1\" >-0.11</td>\n",
              "      <td id=\"T_7c75a_row4_col2\" class=\"data row4 col2\" >-0.14</td>\n",
              "      <td id=\"T_7c75a_row4_col3\" class=\"data row4 col3\" >-0.09</td>\n",
              "      <td id=\"T_7c75a_row4_col4\" class=\"data row4 col4\" >1.00</td>\n",
              "      <td id=\"T_7c75a_row4_col5\" class=\"data row4 col5\" >0.10</td>\n",
              "      <td id=\"T_7c75a_row4_col6\" class=\"data row4 col6\" >0.02</td>\n",
              "      <td id=\"T_7c75a_row4_col7\" class=\"data row4 col7\" >-0.04</td>\n",
              "      <td id=\"T_7c75a_row4_col8\" class=\"data row4 col8\" >-0.04</td>\n",
              "      <td id=\"T_7c75a_row4_col9\" class=\"data row4 col9\" >-0.05</td>\n",
              "      <td id=\"T_7c75a_row4_col10\" class=\"data row4 col10\" >-0.01</td>\n",
              "      <td id=\"T_7c75a_row4_col11\" class=\"data row4 col11\" >-0.03</td>\n",
              "    </tr>\n",
              "    <tr>\n",
              "      <th id=\"T_7c75a_level0_row5\" class=\"row_heading level0 row5\" >Store_Presence</th>\n",
              "      <td id=\"T_7c75a_row5_col0\" class=\"data row5 col0\" >-0.47</td>\n",
              "      <td id=\"T_7c75a_row5_col1\" class=\"data row5 col1\" >-0.82</td>\n",
              "      <td id=\"T_7c75a_row5_col2\" class=\"data row5 col2\" >-0.05</td>\n",
              "      <td id=\"T_7c75a_row5_col3\" class=\"data row5 col3\" >-0.72</td>\n",
              "      <td id=\"T_7c75a_row5_col4\" class=\"data row5 col4\" >0.10</td>\n",
              "      <td id=\"T_7c75a_row5_col5\" class=\"data row5 col5\" >1.00</td>\n",
              "      <td id=\"T_7c75a_row5_col6\" class=\"data row5 col6\" >0.57</td>\n",
              "      <td id=\"T_7c75a_row5_col7\" class=\"data row5 col7\" >-0.19</td>\n",
              "      <td id=\"T_7c75a_row5_col8\" class=\"data row5 col8\" >-0.43</td>\n",
              "      <td id=\"T_7c75a_row5_col9\" class=\"data row5 col9\" >-0.22</td>\n",
              "      <td id=\"T_7c75a_row5_col10\" class=\"data row5 col10\" >-0.07</td>\n",
              "      <td id=\"T_7c75a_row5_col11\" class=\"data row5 col11\" >-0.20</td>\n",
              "    </tr>\n",
              "    <tr>\n",
              "      <th id=\"T_7c75a_level0_row6\" class=\"row_heading level0 row6\" >Score_1</th>\n",
              "      <td id=\"T_7c75a_row6_col0\" class=\"data row6 col0\" >-0.45</td>\n",
              "      <td id=\"T_7c75a_row6_col1\" class=\"data row6 col1\" >-0.61</td>\n",
              "      <td id=\"T_7c75a_row6_col2\" class=\"data row6 col2\" >-0.03</td>\n",
              "      <td id=\"T_7c75a_row6_col3\" class=\"data row6 col3\" >-0.73</td>\n",
              "      <td id=\"T_7c75a_row6_col4\" class=\"data row6 col4\" >0.02</td>\n",
              "      <td id=\"T_7c75a_row6_col5\" class=\"data row6 col5\" >0.57</td>\n",
              "      <td id=\"T_7c75a_row6_col6\" class=\"data row6 col6\" >1.00</td>\n",
              "      <td id=\"T_7c75a_row6_col7\" class=\"data row6 col7\" >-0.10</td>\n",
              "      <td id=\"T_7c75a_row6_col8\" class=\"data row6 col8\" >-0.47</td>\n",
              "      <td id=\"T_7c75a_row6_col9\" class=\"data row6 col9\" >-0.20</td>\n",
              "      <td id=\"T_7c75a_row6_col10\" class=\"data row6 col10\" >-0.11</td>\n",
              "      <td id=\"T_7c75a_row6_col11\" class=\"data row6 col11\" >-0.16</td>\n",
              "    </tr>\n",
              "    <tr>\n",
              "      <th id=\"T_7c75a_level0_row7\" class=\"row_heading level0 row7\" >Score_2</th>\n",
              "      <td id=\"T_7c75a_row7_col0\" class=\"data row7 col0\" >-0.04</td>\n",
              "      <td id=\"T_7c75a_row7_col1\" class=\"data row7 col1\" >0.28</td>\n",
              "      <td id=\"T_7c75a_row7_col2\" class=\"data row7 col2\" >0.02</td>\n",
              "      <td id=\"T_7c75a_row7_col3\" class=\"data row7 col3\" >0.15</td>\n",
              "      <td id=\"T_7c75a_row7_col4\" class=\"data row7 col4\" >-0.04</td>\n",
              "      <td id=\"T_7c75a_row7_col5\" class=\"data row7 col5\" >-0.19</td>\n",
              "      <td id=\"T_7c75a_row7_col6\" class=\"data row7 col6\" >-0.10</td>\n",
              "      <td id=\"T_7c75a_row7_col7\" class=\"data row7 col7\" >1.00</td>\n",
              "      <td id=\"T_7c75a_row7_col8\" class=\"data row7 col8\" >0.03</td>\n",
              "      <td id=\"T_7c75a_row7_col9\" class=\"data row7 col9\" >0.02</td>\n",
              "      <td id=\"T_7c75a_row7_col10\" class=\"data row7 col10\" >-0.00</td>\n",
              "      <td id=\"T_7c75a_row7_col11\" class=\"data row7 col11\" >0.00</td>\n",
              "    </tr>\n",
              "    <tr>\n",
              "      <th id=\"T_7c75a_level0_row8\" class=\"row_heading level0 row8\" >Score_3</th>\n",
              "      <td id=\"T_7c75a_row8_col0\" class=\"data row8 col0\" >0.62</td>\n",
              "      <td id=\"T_7c75a_row8_col1\" class=\"data row8 col1\" >0.53</td>\n",
              "      <td id=\"T_7c75a_row8_col2\" class=\"data row8 col2\" >0.04</td>\n",
              "      <td id=\"T_7c75a_row8_col3\" class=\"data row8 col3\" >0.52</td>\n",
              "      <td id=\"T_7c75a_row8_col4\" class=\"data row8 col4\" >-0.04</td>\n",
              "      <td id=\"T_7c75a_row8_col5\" class=\"data row8 col5\" >-0.43</td>\n",
              "      <td id=\"T_7c75a_row8_col6\" class=\"data row8 col6\" >-0.47</td>\n",
              "      <td id=\"T_7c75a_row8_col7\" class=\"data row8 col7\" >0.03</td>\n",
              "      <td id=\"T_7c75a_row8_col8\" class=\"data row8 col8\" >1.00</td>\n",
              "      <td id=\"T_7c75a_row8_col9\" class=\"data row8 col9\" >0.18</td>\n",
              "      <td id=\"T_7c75a_row8_col10\" class=\"data row8 col10\" >0.01</td>\n",
              "      <td id=\"T_7c75a_row8_col11\" class=\"data row8 col11\" >0.18</td>\n",
              "    </tr>\n",
              "    <tr>\n",
              "      <th id=\"T_7c75a_level0_row9\" class=\"row_heading level0 row9\" >Score_4</th>\n",
              "      <td id=\"T_7c75a_row9_col0\" class=\"data row9 col0\" >0.12</td>\n",
              "      <td id=\"T_7c75a_row9_col1\" class=\"data row9 col1\" >0.25</td>\n",
              "      <td id=\"T_7c75a_row9_col2\" class=\"data row9 col2\" >0.00</td>\n",
              "      <td id=\"T_7c75a_row9_col3\" class=\"data row9 col3\" >0.26</td>\n",
              "      <td id=\"T_7c75a_row9_col4\" class=\"data row9 col4\" >-0.05</td>\n",
              "      <td id=\"T_7c75a_row9_col5\" class=\"data row9 col5\" >-0.22</td>\n",
              "      <td id=\"T_7c75a_row9_col6\" class=\"data row9 col6\" >-0.20</td>\n",
              "      <td id=\"T_7c75a_row9_col7\" class=\"data row9 col7\" >0.02</td>\n",
              "      <td id=\"T_7c75a_row9_col8\" class=\"data row9 col8\" >0.18</td>\n",
              "      <td id=\"T_7c75a_row9_col9\" class=\"data row9 col9\" >1.00</td>\n",
              "      <td id=\"T_7c75a_row9_col10\" class=\"data row9 col10\" >0.03</td>\n",
              "      <td id=\"T_7c75a_row9_col11\" class=\"data row9 col11\" >0.04</td>\n",
              "    </tr>\n",
              "    <tr>\n",
              "      <th id=\"T_7c75a_level0_row10\" class=\"row_heading level0 row10\" >time</th>\n",
              "      <td id=\"T_7c75a_row10_col0\" class=\"data row10 col0\" >-0.06</td>\n",
              "      <td id=\"T_7c75a_row10_col1\" class=\"data row10 col1\" >0.10</td>\n",
              "      <td id=\"T_7c75a_row10_col2\" class=\"data row10 col2\" >-0.01</td>\n",
              "      <td id=\"T_7c75a_row10_col3\" class=\"data row10 col3\" >0.08</td>\n",
              "      <td id=\"T_7c75a_row10_col4\" class=\"data row10 col4\" >-0.01</td>\n",
              "      <td id=\"T_7c75a_row10_col5\" class=\"data row10 col5\" >-0.07</td>\n",
              "      <td id=\"T_7c75a_row10_col6\" class=\"data row10 col6\" >-0.11</td>\n",
              "      <td id=\"T_7c75a_row10_col7\" class=\"data row10 col7\" >-0.00</td>\n",
              "      <td id=\"T_7c75a_row10_col8\" class=\"data row10 col8\" >0.01</td>\n",
              "      <td id=\"T_7c75a_row10_col9\" class=\"data row10 col9\" >0.03</td>\n",
              "      <td id=\"T_7c75a_row10_col10\" class=\"data row10 col10\" >1.00</td>\n",
              "      <td id=\"T_7c75a_row10_col11\" class=\"data row10 col11\" >0.02</td>\n",
              "    </tr>\n",
              "    <tr>\n",
              "      <th id=\"T_7c75a_level0_row11\" class=\"row_heading level0 row11\" >popularity</th>\n",
              "      <td id=\"T_7c75a_row11_col0\" class=\"data row11 col0\" >0.23</td>\n",
              "      <td id=\"T_7c75a_row11_col1\" class=\"data row11 col1\" >0.20</td>\n",
              "      <td id=\"T_7c75a_row11_col2\" class=\"data row11 col2\" >0.00</td>\n",
              "      <td id=\"T_7c75a_row11_col3\" class=\"data row11 col3\" >0.20</td>\n",
              "      <td id=\"T_7c75a_row11_col4\" class=\"data row11 col4\" >-0.03</td>\n",
              "      <td id=\"T_7c75a_row11_col5\" class=\"data row11 col5\" >-0.20</td>\n",
              "      <td id=\"T_7c75a_row11_col6\" class=\"data row11 col6\" >-0.16</td>\n",
              "      <td id=\"T_7c75a_row11_col7\" class=\"data row11 col7\" >0.00</td>\n",
              "      <td id=\"T_7c75a_row11_col8\" class=\"data row11 col8\" >0.18</td>\n",
              "      <td id=\"T_7c75a_row11_col9\" class=\"data row11 col9\" >0.04</td>\n",
              "      <td id=\"T_7c75a_row11_col10\" class=\"data row11 col10\" >0.02</td>\n",
              "      <td id=\"T_7c75a_row11_col11\" class=\"data row11 col11\" >1.00</td>\n",
              "    </tr>\n",
              "  </tbody>\n",
              "</table>\n"
            ]
          },
          "metadata": {},
          "execution_count": 91
        }
      ],
      "source": [
        "#correlation \n",
        "#perfom correlation matrix Using pandas\n",
        "corr = train_df.corr()\n",
        "\n",
        "corr.style.background_gradient(cmap='coolwarm').set_precision(2)\n"
      ]
    },
    {
      "cell_type": "code",
      "execution_count": null,
      "metadata": {
        "colab": {
          "base_uri": "https://localhost:8080/",
          "height": 321
        },
        "id": "eTK60jZzWPy8",
        "outputId": "7258a707-9499-4fee-cde7-c64306bbc456"
      },
      "outputs": [
        {
          "output_type": "display_data",
          "data": {
            "text/plain": [
              "<Figure size 432x288 with 2 Axes>"
            ],
            "image/png": "[encoded data removed]"
          },
          "metadata": {
            "needs_background": "light"
          }
        }
      ],
      "source": [
        "# Using seaborn\n",
        "ax = sns.heatmap(corr,\n",
        "                 vmin=-1,vmax=1,center=0,cmap=sns.diverging_palette(20,220,n=200),square=True)\n",
        "\n",
        "\n",
        "ax.set_xticklabels(ax.get_xticklabels(),rotation=45,horizontalalignment='right');\n"
      ]
    },
    {
      "cell_type": "markdown",
      "metadata": {
        "id": "pqB1ptOuFXyy"
      },
      "source": [
        "# SCATTER PLOT\n"
      ]
    },
    {
      "cell_type": "code",
      "execution_count": null,
      "metadata": {
        "id": "ar-fUIgoWPut"
      },
      "outputs": [],
      "source": [
        "# perform scatterplot \n",
        "# Make a list of all the columns of train dataset\n",
        "# Loop through the different columns \n",
        "def plot_scatter(x, y):\n",
        "    plt.figure()\n",
        "    plt.xlabel(x)\n",
        "    plt.ylabel(y)\n",
        "    plt.scatter(train_df[x],train_df[y])\n",
        "    plt.show()\n",
        "  "
      ]
    },
    {
      "cell_type": "markdown",
      "metadata": {
        "id": "KOPHMAF1FSi2"
      },
      "source": [
        "# HISTOGRAM\n"
      ]
    },
    {
      "cell_type": "code",
      "execution_count": null,
      "metadata": {
        "colab": {
          "base_uri": "https://localhost:8080/",
          "height": 512
        },
        "id": "pm6CXuQAWPt5",
        "outputId": "b7a23023-a721-4697-a48a-7aad3a4e7210"
      },
      "outputs": [
        {
          "output_type": "display_data",
          "data": {
            "text/plain": [
              "<Figure size 1080x576 with 12 Axes>"
            ],
            "image/png": "[encoded data removed]"
          },
          "metadata": {
            "needs_background": "light"
          }
        }
      ],
      "source": [
        "# perform histogram using pandas for all columns of train dataset\n",
        "\n",
        "\n",
        "train_df.hist(figsize=(15,8))\n",
        "plt.show()"
      ]
    },
    {
      "cell_type": "markdown",
      "metadata": {
        "id": "cgCJV7fPgZIW"
      },
      "source": [
        "# VIF - Variance inflation factor"
      ]
    },
    {
      "cell_type": "code",
      "execution_count": null,
      "metadata": {
        "id": "u70_4vpMgYd8"
      },
      "outputs": [],
      "source": [
        "#import statsmodels.api\n",
        "import statsmodels.api as sm\n"
      ]
    },
    {
      "cell_type": "code",
      "execution_count": null,
      "metadata": {
        "colab": {
          "base_uri": "https://localhost:8080/"
        },
        "id": "p6ypyZ6GgYXL",
        "outputId": "167e5ef7-0889-4739-9a62-831cf1887e59"
      },
      "outputs": [
        {
          "output_type": "stream",
          "name": "stdout",
          "text": [
            "['Store_Ratio', 'Basket_Ratio', 'Category_1', 'Store_Score', 'Category_2', 'Store_Presence', 'Score_1', 'Score_2', 'Score_3', 'Score_4', 'time']\n"
          ]
        }
      ],
      "source": [
        "# creating a dataframe of just numerical values\n",
        "train_for_vif = train_df.drop('popularity',axis=1)\n",
        "\n",
        "\n",
        "# target values\n",
        "target = train_df['popularity']\n",
        "\n",
        "\n",
        "# numerical values column names\n",
        "names =  ['Store_Ratio','Basket_Ratio','Category_1','Store_Score','Category_2','Store_Presence','Score_1','Score_2','Score_3','Score_4','time']\n",
        "\n",
        "\n",
        "#print names\n",
        "print(names)\n",
        "\n"
      ]
    },
    {
      "cell_type": "code",
      "execution_count": null,
      "metadata": {
        "colab": {
          "base_uri": "https://localhost:8080/"
        },
        "id": "GDao7cMz1RtC",
        "outputId": "bdeb6033-0ea7-4329-d9eb-c16712ff8722"
      },
      "outputs": [
        {
          "output_type": "execute_result",
          "data": {
            "text/plain": [
              "array([False,  True, False, False, False, False, False, False, False,\n",
              "       False, False])"
            ]
          },
          "metadata": {},
          "execution_count": 97
        }
      ],
      "source": [
        "# droping rows with from new dataframe empty cells\n",
        "\n",
        "train_for_vif.columns ==  names[1]\n"
      ]
    },
    {
      "cell_type": "code",
      "execution_count": null,
      "metadata": {
        "colab": {
          "base_uri": "https://localhost:8080/"
        },
        "id": "HXfbtwyQgXeC",
        "outputId": "0b9ca741-bb52-4ca3-fd7e-5c501f8a052b"
      },
      "outputs": [
        {
          "output_type": "stream",
          "name": "stdout",
          "text": [
            "R Square value of Store_Ratio columns is 0.92 keeping all other columns as features\n",
            "Variance inflation Factor of Store_Ratio columns is 12.13 \n",
            "\n",
            "R Square value of Basket_Ratio columns is 0.92 keeping all other columns as features\n",
            "Variance inflation Factor of Basket_Ratio columns is 12.13 \n",
            "\n",
            "R Square value of Category_1 columns is 0.92 keeping all other columns as features\n",
            "Variance inflation Factor of Category_1 columns is 12.13 \n",
            "\n",
            "R Square value of Store_Score columns is 0.92 keeping all other columns as features\n",
            "Variance inflation Factor of Store_Score columns is 12.13 \n",
            "\n",
            "R Square value of Category_2 columns is 0.92 keeping all other columns as features\n",
            "Variance inflation Factor of Category_2 columns is 12.13 \n",
            "\n",
            "R Square value of Store_Presence columns is 0.92 keeping all other columns as features\n",
            "Variance inflation Factor of Store_Presence columns is 12.13 \n",
            "\n",
            "R Square value of Score_1 columns is 0.92 keeping all other columns as features\n",
            "Variance inflation Factor of Score_1 columns is 12.13 \n",
            "\n",
            "R Square value of Score_2 columns is 0.92 keeping all other columns as features\n",
            "Variance inflation Factor of Score_2 columns is 12.13 \n",
            "\n",
            "R Square value of Score_3 columns is 0.92 keeping all other columns as features\n",
            "Variance inflation Factor of Score_3 columns is 12.13 \n",
            "\n",
            "R Square value of Score_4 columns is 0.92 keeping all other columns as features\n",
            "Variance inflation Factor of Score_4 columns is 12.13 \n",
            "\n",
            "R Square value of time columns is 0.92 keeping all other columns as features\n",
            "Variance inflation Factor of time columns is 12.13 \n",
            "\n"
          ]
        }
      ],
      "source": [
        "# Calculating VIF for each feature.\n",
        "\n",
        "  # taking one column as target variable\n",
        "\n",
        "  # taking all other remaining columns as fetaure variable\n",
        "\n",
        "  # firting the OLS model on y and x\n",
        "\n",
        "\n",
        "  # geting the r^2 value of results.\n",
        "\n",
        "  # calculating vif value\n",
        "\n",
        "for i in range(0, len(names)):\n",
        "  y =  train_for_vif.loc[:,train_for_vif.columns==names[1]]\n",
        "  \n",
        "  x = train_for_vif.loc[:,train_for_vif.columns !=names[1]]\n",
        "  \n",
        "  model = sm.OLS(y,x)\n",
        "  \n",
        "  results = model.fit()\n",
        "  \n",
        "  rsq = results.rsquared\n",
        "  \n",
        "  vif = round(1/(1-rsq),2)\n",
        "  \n",
        "  print(\"R Square value of {} columns is {} keeping all other columns as features\".format(names[i],(round(rsq, 2))))\n",
        "  print(\"Variance inflation Factor of {} columns is {} \\n\".format(names[i], vif))\n",
        "  "
      ]
    },
    {
      "cell_type": "markdown",
      "source": [
        "#BOX PLOT\n"
      ],
      "metadata": {
        "id": "ofM4fjE2DqY5"
      }
    },
    {
      "cell_type": "code",
      "execution_count": null,
      "metadata": {
        "colab": {
          "base_uri": "https://localhost:8080/",
          "height": 442
        },
        "id": "d_fGCNNcWPow",
        "outputId": "de24299a-3315-46f1-de47-7d61880f6731"
      },
      "outputs": [
        {
          "output_type": "display_data",
          "data": {
            "text/plain": [
              "<Figure size 1440x648 with 1 Axes>"
            ],
            "image/png": "[encoded data removed]"
          },
          "metadata": {
            "needs_background": "light"
          }
        }
      ],
      "source": [
        "# Perform a box plot on Store_Ratio \n",
        "plt.figure(figsize=(20,9))\n",
        "plt.boxplot(x= train_df['Store_Ratio'])\n",
        "plt.show()\n"
      ]
    },
    {
      "cell_type": "markdown",
      "metadata": {
        "id": "zLYHYSgkLwZ5"
      },
      "source": [
        "From above point plot\n",
        "\n",
        "There is a increase in store ratio when there is a decrease in store presence."
      ]
    },
    {
      "cell_type": "code",
      "execution_count": null,
      "metadata": {
        "colab": {
          "base_uri": "https://localhost:8080/",
          "height": 462
        },
        "id": "cSHrEq5RWPvs",
        "outputId": "3313fbef-451e-499d-bd8c-01455b59e003"
      },
      "outputs": [
        {
          "data": {
            "text/plain": [
              "<matplotlib.axes._subplots.AxesSubplot at 0x7fa37a1e2e50>"
            ]
          },
          "execution_count": 52,
          "metadata": {},
          "output_type": "execute_result"
        },
        {
          "data": {
            "image/png": "[encoded data removed]",
            "text/plain": [
              "<Figure size 1440x648 with 1 Axes>"
            ]
          },
          "metadata": {},
          "output_type": "display_data"
        }
      ],
      "source": [
        "# Perform point plot between Store Ratio and Score 1\n",
        "plt.figure(figsize=(20,9))\n",
        "sns.pointplot(data=train_df,x='Store_Ratio',y='Score_1',palette='rainbow')\n"
      ]
    },
    {
      "cell_type": "markdown",
      "metadata": {
        "id": "bDwY-olvMb2e"
      },
      "source": [
        "From above point plot\n",
        "\n",
        "There is a decrease in score3 when there is a increase in store ratio."
      ]
    },
    {
      "cell_type": "code",
      "source": [
        "#Perform distplot for all the columns in dataset\n",
        "for column in df.columns:\n",
        "    print(column)\n",
        "    # code below\n",
        "    fig,ax = plt.subplots(nrows=1,ncols=2,figsize=(18,6))\n",
        "    sns.distplot(df[column],ax=ax[0],color='blue')\n",
        "    sns.distplot(df[column],ax=ax[1],color='green')\n",
        "    plt.show()"
      ],
      "metadata": {
        "id": "YdYjz5SRGKDe"
      },
      "execution_count": null,
      "outputs": []
    },
    {
      "cell_type": "markdown",
      "metadata": {
        "id": "G7vx_1f873dT"
      },
      "source": [
        "# dendrogram\n",
        "\n"
      ]
    },
    {
      "cell_type": "code",
      "execution_count": null,
      "metadata": {
        "colab": {
          "base_uri": "https://localhost:8080/",
          "height": 447
        },
        "id": "Ahcjcn7UWPKd",
        "outputId": "2b729538-1130-439b-b391-7e0739986e1c"
      },
      "outputs": [
        {
          "data": {
            "image/png": "[encoded data removed]",
            "text/plain": [
              "<Figure size 1440x720 with 1 Axes>"
            ]
          },
          "metadata": {},
          "output_type": "display_data"
        }
      ],
      "source": [
        "# Plot a Dendrogram on the columns of the dataset\n",
        "\n",
        "# droping the NaN values\n",
        "X = df.dropna()\n",
        "\n",
        "\n",
        "# import scipy, hierarchy as hc\n",
        "import scipy\n",
        "from scipy.cluster import hierarchy as hc\n",
        "\n",
        "\n",
        "corr = np.round(scipy.stats.spearmanr(X).correlation,4)\n",
        "\n",
        "corr_condensed = hc.distance.squareform(1-corr)\n",
        "\n",
        "z = hc.linkage(corr_condensed,method='average')\n",
        "\n",
        "fig = plt.figure(figsize=(20,10))\n",
        "\n",
        "dendrogram = hc.dendrogram(z,labels=X.columns,orientation='left',leaf_font_size=16)\n",
        "\n",
        "plt.show()\n"
      ]
    },
    {
      "cell_type": "markdown",
      "metadata": {
        "id": "4PU8vvXkFHhk"
      },
      "source": [
        "there is on relation between time and popularity"
      ]
    },
    {
      "cell_type": "markdown",
      "metadata": {
        "id": "aunWgPLtO0Uk"
      },
      "source": [
        "# Preprocessing"
      ]
    },
    {
      "cell_type": "code",
      "execution_count": null,
      "metadata": {
        "id": "K_TO3wn1cJBq"
      },
      "outputs": [],
      "source": [
        "#convert the time column into more columns like hour, month, day, year , minute\n",
        "train_df['hour'] =  pd.to_datetime(df['time'].astype(int),unit='s').dt.hour\n",
        "\n",
        "train_df['month'] = pd.to_datetime(df['time'].astype(int),unit='s').dt.month\n",
        "\n",
        "train_df['day'] = pd.to_datetime(df['time'].astype(int),unit='s').dt.day\n",
        "\n",
        "train_df['year'] = pd.to_datetime(df['time'].astype(int),unit='s').dt.year\n",
        "\n",
        "train_df['minute'] = pd.to_datetime(df['time'].astype(int),unit='s').dt.minute\n",
        "\n"
      ]
    },
    {
      "cell_type": "code",
      "execution_count": null,
      "metadata": {
        "id": "X453Q1UFcI-8"
      },
      "outputs": [],
      "source": [
        "# drop popularity from train_df and name that variable as y\n",
        "#drop popularity n time from train dataset\n",
        "y = df['popularity']\n",
        "\n",
        "train_df = df.drop(['popularity','time'],1)\n"
      ]
    },
    {
      "cell_type": "markdown",
      "metadata": {
        "id": "E4AzwiMlXXiy"
      },
      "source": [
        "# Scaling\n",
        "\n"
      ]
    },
    {
      "cell_type": "markdown",
      "metadata": {
        "id": "SGVr7-CAcaWQ"
      },
      "source": [
        "## min max scaling\n"
      ]
    },
    {
      "cell_type": "code",
      "execution_count": null,
      "metadata": {
        "id": "_uqyhg5WcIhk"
      },
      "outputs": [],
      "source": [
        "# Helper function for scaling all the numerical data using MinMaxScalar\n",
        "# import asarray\n",
        "#  import MinMaxScaler\n",
        "from numpy import asarray\n",
        "from sklearn.preprocessing import MinMaxScaler\n",
        "def scale_data(df,col):\n",
        "  \n",
        "  scaler = MinMaxScaler()\n",
        "  \n",
        "\n",
        "  df[col] = scaler.fit_transform(df[col])\n",
        "  \n",
        "  return df"
      ]
    },
    {
      "cell_type": "code",
      "execution_count": null,
      "metadata": {
        "id": "ytaombmwcIdp"
      },
      "outputs": [],
      "source": [
        "# Making a list of the column names to be scaled \n",
        "\n",
        "# passing data and column name for scaling\n",
        "col_X = ['Store_Ratio', 'Basket_Ratio', 'Store_Score', 'Store_Presence', 'Score_1', 'Score_2', 'Score_3', 'Score_4']\n",
        "X =   train_df\n",
        "X = scale_data(X,col_X)"
      ]
    },
    {
      "cell_type": "markdown",
      "metadata": {
        "id": "ukJKNi1cBwh7"
      },
      "source": [
        "## Splitting the data into train and test set"
      ]
    },
    {
      "cell_type": "code",
      "execution_count": null,
      "metadata": {
        "id": "9QKYWlpgcajq"
      },
      "outputs": [],
      "source": [
        "# split the dataset  into test and train \n",
        "# 80% train , 20% test and random state 42\n",
        "from sklearn.model_selection import train_test_split\n",
        "X_train, X_test, y_train, y_test = train_test_split(X,y,test_size=0.2,random_state=42)\n"
      ]
    },
    {
      "cell_type": "code",
      "execution_count": null,
      "metadata": {
        "colab": {
          "base_uri": "https://localhost:8080/"
        },
        "id": "PmXh5NvDcOws",
        "outputId": "f46b6d5f-31ff-45d3-d7a5-ab8a58770e24"
      },
      "outputs": [
        {
          "output_type": "execute_result",
          "data": {
            "text/plain": [
              "((14566, 15), (14566,))"
            ]
          },
          "metadata": {},
          "execution_count": 114
        }
      ],
      "source": [
        "# print X_train shape, y_train shape\n",
        "\n",
        "X_train.shape, y_train.shape"
      ]
    },
    {
      "cell_type": "code",
      "execution_count": null,
      "metadata": {
        "colab": {
          "base_uri": "https://localhost:8080/"
        },
        "id": "8GwXQm8tcady",
        "outputId": "d582cb9b-d5e1-490c-a824-f4590937a4ca"
      },
      "outputs": [
        {
          "data": {
            "text/plain": [
              "False"
            ]
          },
          "execution_count": 44,
          "metadata": {},
          "output_type": "execute_result"
        }
      ],
      "source": [
        "# check for nan value in X_train\n",
        "np.any(np.isnan(X_train))"
      ]
    },
    {
      "cell_type": "markdown",
      "metadata": {
        "id": "WRYO-cL6HGGl"
      },
      "source": [
        "# Modelling"
      ]
    },
    {
      "cell_type": "code",
      "execution_count": null,
      "metadata": {
        "id": "hfDPpDYCGtu-"
      },
      "outputs": [],
      "source": [
        "# importing necessary libraries for geting metrics of models\n",
        "import math\n",
        "import sklearn.metrics as metrics\n",
        "from sklearn.metrics import classification_report, confusion_matrix, accuracy_score\n",
        "\n",
        "\n",
        "# Function for calculating all the relevant metrics \n",
        "def print_score(m):\n",
        "    res = classification_report(y_test,m.predict(X_test))\n",
        "    \n",
        "    print(\"Classification Report \\n\",res)"
      ]
    },
    {
      "cell_type": "code",
      "execution_count": null,
      "metadata": {
        "id": "JVjrNqkdGtqa"
      },
      "outputs": [],
      "source": [
        "# Visualize importance of all the features in the dataset for the prediction\n",
        "\n",
        "def visualize_importance(feature_importances, feat_train_df):\n",
        "    \n",
        "    # creating dataframe for feature name and feature importance\n",
        "    feature_importance_df = pd.DataFrame()\n",
        "\n",
        "    _df = pd.DataFrame()\n",
        "    _df['feature_importance'] = feature_importances\n",
        "    _df['column'] = feat_train_df.columns\n",
        "    feature_importance_df = pd.concat([feature_importance_df,_df],axis=0,ignore_index=True)\n",
        "    \n",
        "\n",
        "    # grouping all data and sorting in descending order\n",
        "    order = feature_importance_df.groupby('column')\\\n",
        "        .sum()[['feature_importance']]\\\n",
        "        .sort_values('feature_importance',ascending=False).index[:50]\n",
        "    \n",
        "    \n",
        "    # ploting feature importance data using boxenplot\n",
        "    fig, ax = plt.subplots(figsize=(8,max(6,len(order)*.25)))\n",
        "    sns.boxplot(data = feature_importance_df,\n",
        "                x='feature_importance',\n",
        "                y= 'column',\n",
        "                order = order,\n",
        "                ax = ax,\n",
        "                palette = 'viridis',\n",
        "                orient = 'h')\n",
        "    ax.tick_params(axis='x',rotation=0)\n",
        "    ax.set_title('Importance')\n",
        "    ax.grid()\n",
        "    fig.tight_layout()\n",
        "   \n",
        "    return fig, ax\n",
        "\n",
        " \n"
      ]
    },
    {
      "cell_type": "markdown",
      "metadata": {
        "id": "lpPr2bdhjcO0"
      },
      "source": [
        "# LOGISTIC REGRESSION"
      ]
    },
    {
      "cell_type": "code",
      "execution_count": null,
      "metadata": {
        "colab": {
          "base_uri": "https://localhost:8080/",
          "height": 701
        },
        "id": "LIDttfKaGtmR",
        "outputId": "49894ddf-ff51-4188-cee9-20b2e51637f8"
      },
      "outputs": [
        {
          "output_type": "stream",
          "name": "stdout",
          "text": [
            "Classification Report \n",
            "               precision    recall  f1-score   support\n",
            "\n",
            "           0       0.00      0.00      0.00         3\n",
            "           1       0.00      0.00      0.00        74\n",
            "           3       0.22      0.01      0.02       444\n",
            "           4       0.83      1.00      0.91      3030\n",
            "           5       0.00      0.00      0.00        91\n",
            "\n",
            "    accuracy                           0.83      3642\n",
            "   macro avg       0.21      0.20      0.19      3642\n",
            "weighted avg       0.72      0.83      0.76      3642\n",
            "\n",
            "CPU times: user 1.67 s, sys: 1.09 s, total: 2.76 s\n",
            "Wall time: 1.46 s\n"
          ]
        },
        {
          "output_type": "display_data",
          "data": {
            "text/plain": [
              "<Figure size 576x432 with 1 Axes>"
            ],
            "image/png": "[encoded data removed]"
          },
          "metadata": {
            "needs_background": "light"
          }
        }
      ],
      "source": [
        "%%time\n",
        "# Fit a logistic Regression model to the train dataset\n",
        "\n",
        "# Import logisticRegression\n",
        "from sklearn.linear_model import LogisticRegression\n",
        "\n",
        "\n",
        "# Instantiate the model\n",
        "log_class = LogisticRegression()\n",
        "\n",
        "\n",
        "# fitting the model on train data\n",
        "\n",
        "log_class.fit(X_train,y_train)\n",
        "\n",
        "# print score of the model\n",
        "\n",
        "print_score(log_class)\n",
        "\n",
        "# visualizing importance of features\n",
        "fig, ax = visualize_importance(log_class.coef_[0],X)\n",
        "\n"
      ]
    },
    {
      "cell_type": "markdown",
      "metadata": {
        "id": "Aybnd58Tjh_d"
      },
      "source": [
        "# RANDOM FOREST CLASSIFIER"
      ]
    },
    {
      "cell_type": "code",
      "execution_count": null,
      "metadata": {
        "colab": {
          "base_uri": "https://localhost:8080/",
          "height": 701
        },
        "id": "r8kJTJpzGtiD",
        "outputId": "b4523e0b-49c8-49ef-b070-ecc179daf56e"
      },
      "outputs": [
        {
          "output_type": "stream",
          "name": "stdout",
          "text": [
            "Classification Report \n",
            "               precision    recall  f1-score   support\n",
            "\n",
            "           0       1.00      1.00      1.00         3\n",
            "           1       0.96      0.35      0.51        74\n",
            "           3       0.87      0.32      0.47       444\n",
            "           4       0.88      1.00      0.94      3030\n",
            "           5       1.00      0.32      0.48        91\n",
            "\n",
            "    accuracy                           0.88      3642\n",
            "   macro avg       0.94      0.60      0.68      3642\n",
            "weighted avg       0.88      0.88      0.86      3642\n",
            "\n",
            "CPU times: user 3.36 s, sys: 16 ms, total: 3.37 s\n",
            "Wall time: 3.36 s\n"
          ]
        },
        {
          "output_type": "display_data",
          "data": {
            "text/plain": [
              "<Figure size 576x432 with 1 Axes>"
            ],
            "image/png": "[encoded data removed]"
          },
          "metadata": {
            "needs_background": "light"
          }
        }
      ],
      "source": [
        "%%time\n",
        "# Fit a RandomForestClassifier model to the train dataset\n",
        "\n",
        "#import RandomForestClassifier\n",
        "from sklearn.ensemble import RandomForestClassifier\n",
        "\n",
        "\n",
        "# Instantiate the model\n",
        "rf_clf = RandomForestClassifier()\n",
        "\n",
        "\n",
        "# fitting the model on train data\n",
        "rf_clf.fit(X_train,y_train)\n",
        "\n",
        "\n",
        "# print score of the model\n",
        "\n",
        "print_score(rf_clf)\n",
        "\n",
        "# visualizing importance of features\n",
        "fig, ax = visualize_importance(rf_clf.feature_importances_,X)\n",
        "\n"
      ]
    },
    {
      "cell_type": "markdown",
      "metadata": {
        "id": "CwmP3p4fjnqa"
      },
      "source": [
        "# ADA BOOST CLASSIFIER"
      ]
    },
    {
      "cell_type": "code",
      "execution_count": null,
      "metadata": {
        "colab": {
          "base_uri": "https://localhost:8080/",
          "height": 701
        },
        "id": "-eseHMqYGtdw",
        "outputId": "caaab3fe-b279-4599-b557-69e136176d03"
      },
      "outputs": [
        {
          "output_type": "stream",
          "name": "stdout",
          "text": [
            "Classification Report \n",
            "               precision    recall  f1-score   support\n",
            "\n",
            "           0       1.00      1.00      1.00         3\n",
            "           1       0.01      0.18      0.01        74\n",
            "           3       0.00      0.00      0.00       444\n",
            "           4       0.69      0.34      0.45      3030\n",
            "           5       0.00      0.00      0.00        91\n",
            "\n",
            "    accuracy                           0.29      3642\n",
            "   macro avg       0.34      0.30      0.29      3642\n",
            "weighted avg       0.57      0.29      0.38      3642\n",
            "\n",
            "CPU times: user 1.49 s, sys: 24.2 ms, total: 1.52 s\n",
            "Wall time: 1.51 s\n"
          ]
        },
        {
          "output_type": "display_data",
          "data": {
            "text/plain": [
              "<Figure size 576x432 with 1 Axes>"
            ],
            "image/png": "[encoded data removed]"
          },
          "metadata": {
            "needs_background": "light"
          }
        }
      ],
      "source": [
        "%%time\n",
        "# Fit a AdaBoost classifier model to the train dataset\n",
        "\n",
        "# Import AdaBoostClassifier\n",
        "from sklearn.ensemble import AdaBoostClassifier\n",
        "\n",
        "\n",
        "# Instantiate the model\n",
        "Ada_clf = AdaBoostClassifier()\n",
        "\n",
        "\n",
        "# fitting the model on train data\n",
        "Ada_clf.fit(X_train,y_train)\n",
        "\n",
        "\n",
        "\n",
        "# print score of the model\n",
        "\n",
        "print_score(Ada_clf)\n",
        "\n",
        "# visualizing importance of features\n",
        "fig, ax = visualize_importance(Ada_clf.feature_importances_, X)\n",
        "\n"
      ]
    },
    {
      "cell_type": "markdown",
      "metadata": {
        "id": "EyE-v87_jsPq"
      },
      "source": [
        "# SUPORT VECTOR CLASSIFIER"
      ]
    },
    {
      "cell_type": "code",
      "execution_count": null,
      "metadata": {
        "colab": {
          "base_uri": "https://localhost:8080/"
        },
        "id": "LOrkXV33GtaJ",
        "outputId": "f67b96db-99a8-4f7f-901a-fabd7d252810"
      },
      "outputs": [
        {
          "output_type": "stream",
          "name": "stdout",
          "text": [
            "Classification Report \n",
            "               precision    recall  f1-score   support\n",
            "\n",
            "           0       0.00      0.00      0.00         3\n",
            "           1       0.00      0.00      0.00        74\n",
            "           3       0.00      0.00      0.00       444\n",
            "           4       0.83      1.00      0.91      3030\n",
            "           5       0.00      0.00      0.00        91\n",
            "\n",
            "    accuracy                           0.83      3642\n",
            "   macro avg       0.17      0.20      0.18      3642\n",
            "weighted avg       0.69      0.83      0.76      3642\n",
            "\n",
            "CPU times: user 5.61 s, sys: 202 ms, total: 5.81 s\n",
            "Wall time: 5.79 s\n"
          ]
        }
      ],
      "source": [
        "%%time\n",
        "# Fit a support vector classifier model to the train dataset\n",
        "\n",
        "#import SVC\n",
        "from sklearn.svm import SVC\n",
        "\n",
        "\n",
        "\n",
        "# Instantiate the model\n",
        "svc = SVC()\n",
        "\n",
        "\n",
        "\n",
        "#fit the model on train data\n",
        "\n",
        "svc.fit(X_train,y_train)\n",
        "print_score(svc)"
      ]
    },
    {
      "cell_type": "markdown",
      "metadata": {
        "id": "nIp6Qh_ZjykL"
      },
      "source": [
        "# DESISION TREE CLASSICIFIER"
      ]
    },
    {
      "cell_type": "code",
      "execution_count": null,
      "metadata": {
        "colab": {
          "base_uri": "https://localhost:8080/",
          "height": 701
        },
        "id": "_ZD2YEjCGtWY",
        "outputId": "b31f7eef-bf6f-493a-dc12-9d85f9cce146"
      },
      "outputs": [
        {
          "output_type": "stream",
          "name": "stdout",
          "text": [
            "Classification Report \n",
            "               precision    recall  f1-score   support\n",
            "\n",
            "           0       1.00      1.00      1.00         3\n",
            "           1       0.28      0.36      0.31        74\n",
            "           3       0.45      0.47      0.46       444\n",
            "           4       0.91      0.89      0.90      3030\n",
            "           5       0.35      0.37      0.36        91\n",
            "\n",
            "    accuracy                           0.82      3642\n",
            "   macro avg       0.60      0.62      0.61      3642\n",
            "weighted avg       0.82      0.82      0.82      3642\n",
            "\n",
            "CPU times: user 386 ms, sys: 3.99 ms, total: 390 ms\n",
            "Wall time: 389 ms\n"
          ]
        },
        {
          "output_type": "display_data",
          "data": {
            "text/plain": [
              "<Figure size 576x432 with 1 Axes>"
            ],
            "image/png": "[encoded data removed]"
          },
          "metadata": {
            "needs_background": "light"
          }
        }
      ],
      "source": [
        "%%time\n",
        "# Fit a DecisionTreeClassifier model to the train dataset\n",
        "\n",
        "#import DecisionTreeClassifier\n",
        "from sklearn.tree import DecisionTreeClassifier\n",
        "\n",
        "\n",
        "# Instantiate the model\n",
        "dt_clf = DecisionTreeClassifier()\n",
        "\n",
        "\n",
        "# fitting the model on train data\n",
        "\n",
        "dt_clf.fit(X_train,y_train)\n",
        "\n",
        "# print score of the model\n",
        "\n",
        "print_score(dt_clf)\n",
        "\n",
        "\n",
        "# visualizing importance of features\n",
        "fig, ax = visualize_importance(dt_clf.feature_importances_,X)\n",
        "\n"
      ]
    },
    {
      "cell_type": "markdown",
      "metadata": {
        "id": "xTHoBbnHj3T4"
      },
      "source": [
        "# K NEIGHBOUR CLASSIFIER"
      ]
    },
    {
      "cell_type": "code",
      "execution_count": null,
      "metadata": {
        "colab": {
          "base_uri": "https://localhost:8080/"
        },
        "id": "Nj8L7Cg0GtSP",
        "outputId": "10c61ee9-986f-466b-9d34-863d83643631"
      },
      "outputs": [
        {
          "output_type": "stream",
          "name": "stdout",
          "text": [
            "Classification Report \n",
            "               precision    recall  f1-score   support\n",
            "\n",
            "           0       0.00      0.00      0.00         3\n",
            "           1       0.23      0.04      0.07        74\n",
            "           3       0.37      0.15      0.21       444\n",
            "           4       0.85      0.96      0.90      3030\n",
            "           5       0.43      0.10      0.16        91\n",
            "\n",
            "    accuracy                           0.82      3642\n",
            "   macro avg       0.38      0.25      0.27      3642\n",
            "weighted avg       0.77      0.82      0.78      3642\n",
            "\n",
            "CPU times: user 206 ms, sys: 1 µs, total: 206 ms\n",
            "Wall time: 207 ms\n"
          ]
        }
      ],
      "source": [
        "%%time\n",
        "# Fit a K-Neighbour classifier model to the train dataset\n",
        "\n",
        "# Import KNeighborsClassifier\n",
        "from sklearn.neighbors import KNeighborsClassifier\n",
        "\n",
        "\n",
        "# Instantiate the model\n",
        "knn_clf = KNeighborsClassifier()\n",
        "\n",
        "\n",
        "# fitting the model on train data\n",
        "knn_clf.fit(X_train,y_train)\n",
        "\n",
        "\n",
        "# print score of the model\n",
        "\n",
        "print_score(knn_clf)\n"
      ]
    },
    {
      "cell_type": "markdown",
      "metadata": {
        "id": "UTxioey6j9mm"
      },
      "source": [
        "# GRADIENT BOOSTING CLASSIFIER"
      ]
    },
    {
      "cell_type": "code",
      "execution_count": null,
      "metadata": {
        "colab": {
          "base_uri": "https://localhost:8080/",
          "height": 701
        },
        "id": "vPK5JhSgGtN0",
        "outputId": "bc80165c-e68d-451a-f00b-ff11942d82dd"
      },
      "outputs": [
        {
          "output_type": "stream",
          "name": "stdout",
          "text": [
            "Classification Report \n",
            "               precision    recall  f1-score   support\n",
            "\n",
            "           0       1.00      1.00      1.00         3\n",
            "           1       0.63      0.16      0.26        74\n",
            "           3       0.55      0.11      0.18       444\n",
            "           4       0.85      0.99      0.91      3030\n",
            "           5       0.75      0.13      0.22        91\n",
            "\n",
            "    accuracy                           0.84      3642\n",
            "   macro avg       0.76      0.48      0.52      3642\n",
            "weighted avg       0.81      0.84      0.79      3642\n",
            "\n",
            "CPU times: user 22.6 s, sys: 44.7 ms, total: 22.7 s\n",
            "Wall time: 24.5 s\n"
          ]
        },
        {
          "output_type": "display_data",
          "data": {
            "text/plain": [
              "<Figure size 576x432 with 1 Axes>"
            ],
            "image/png": "[encoded data removed]"
          },
          "metadata": {
            "needs_background": "light"
          }
        }
      ],
      "source": [
        "%%time\n",
        "# Fit a Gradient Boosting Classifier model to the train dataset\n",
        "\n",
        "# Import GradientBoostingClassifier\n",
        "from sklearn.ensemble import GradientBoostingClassifier\n",
        "\n",
        "\n",
        "# Instantiate the model\n",
        "GBR_clf = GradientBoostingClassifier()\n",
        "\n",
        "\n",
        "# fitting the model on train data\n",
        "\n",
        "GBR_clf.fit(X_train,y_train)\n",
        "\n",
        "# print score of the model\n",
        "\n",
        "print_score(GBR_clf)\n",
        "\n",
        "# visualizing importance of features\n",
        "fig, ax = visualize_importance(GBR_clf.feature_importances_,X)\n",
        "\n"
      ]
    },
    {
      "cell_type": "markdown",
      "metadata": {
        "id": "wVCb51R6kEd7"
      },
      "source": [
        "# BAGGING CLASSIFIER"
      ]
    },
    {
      "cell_type": "code",
      "execution_count": null,
      "metadata": {
        "colab": {
          "base_uri": "https://localhost:8080/"
        },
        "id": "mj8SZNZuGtJq",
        "outputId": "1c4e86f4-b14b-4e1c-df08-ac83dafe23b5"
      },
      "outputs": [
        {
          "output_type": "stream",
          "name": "stdout",
          "text": [
            "Classification Report \n",
            "               precision    recall  f1-score   support\n",
            "\n",
            "           0       1.00      1.00      1.00         3\n",
            "           1       0.88      0.38      0.53        74\n",
            "           3       0.56      0.40      0.47       444\n",
            "           4       0.89      0.96      0.93      3030\n",
            "           5       0.88      0.32      0.47        91\n",
            "\n",
            "    accuracy                           0.86      3642\n",
            "   macro avg       0.84      0.61      0.68      3642\n",
            "weighted avg       0.85      0.86      0.85      3642\n",
            "\n",
            "CPU times: user 1.39 s, sys: 0 ns, total: 1.39 s\n",
            "Wall time: 1.39 s\n"
          ]
        }
      ],
      "source": [
        "%%time\n",
        "# Fit a Bagging Classifier model to the train dataset\n",
        "\n",
        "# Import BaggingClassifier\n",
        "from sklearn.ensemble import BaggingClassifier\n",
        "\n",
        "\n",
        "# Instantiate the model\n",
        "bg_clf = BaggingClassifier()\n",
        "\n",
        "\n",
        "# fitting the model on train data\n",
        "bg_clf.fit(X_train,y_train)\n",
        "\n",
        "\n",
        "# print score of the model\n",
        "\n",
        "print_score(bg_clf)\n"
      ]
    },
    {
      "cell_type": "markdown",
      "metadata": {
        "id": "p8Ey0kT1kJKS"
      },
      "source": [
        "# VOTING CLASSIFIER"
      ]
    },
    {
      "cell_type": "code",
      "execution_count": null,
      "metadata": {
        "colab": {
          "base_uri": "https://localhost:8080/"
        },
        "id": "k-vyCnADGtFs",
        "outputId": "3117de91-15e7-4028-d711-c082dba67867"
      },
      "outputs": [
        {
          "output_type": "stream",
          "name": "stdout",
          "text": [
            "Classification Report \n",
            "               precision    recall  f1-score   support\n",
            "\n",
            "           0       1.00      1.00      1.00         3\n",
            "           1       1.00      0.35      0.52        74\n",
            "           3       0.85      0.31      0.46       444\n",
            "           4       0.87      0.99      0.93      3030\n",
            "           5       1.00      0.11      0.20        91\n",
            "\n",
            "    accuracy                           0.88      3642\n",
            "   macro avg       0.94      0.55      0.62      3642\n",
            "weighted avg       0.88      0.88      0.85      3642\n",
            "\n",
            "CPU times: user 9.15 s, sys: 58.7 ms, total: 9.21 s\n",
            "Wall time: 9.18 s\n"
          ]
        }
      ],
      "source": [
        "%%time\n",
        "# Fit a VotingClassifier model to the train dataset\n",
        "\n",
        "# Import VotingClassifier\n",
        "from sklearn.ensemble import VotingClassifier\n",
        "\n",
        "\n",
        "# list of classifier objects\n",
        "classifiers = [(\"knn\", knn_clf), (\"svc\", svc), (\"dt\", dt_clf), (\"rf_clf\", rf_clf)]\n",
        "\n",
        "# Instantiate the model\n",
        "voting_clf = VotingClassifier(estimators = classifiers,voting='hard')\n",
        "\n",
        "\n",
        "# fitting the model on train data\n",
        "voting_clf.fit(X_train,y_train)\n",
        "\n",
        "\n",
        "# print score of the model\n",
        "\n",
        "print_score(voting_clf)\n"
      ]
    },
    {
      "cell_type": "markdown",
      "metadata": {
        "id": "LbVaokQkkTbn"
      },
      "source": [
        "# XGB CLASSIFIER"
      ]
    },
    {
      "cell_type": "code",
      "execution_count": null,
      "metadata": {
        "colab": {
          "base_uri": "https://localhost:8080/",
          "height": 701
        },
        "id": "Ip4y_mc6Gs8H",
        "outputId": "87d60833-da83-43bd-9623-23c5bcfba46b"
      },
      "outputs": [
        {
          "output_type": "stream",
          "name": "stdout",
          "text": [
            "Classification Report \n",
            "               precision    recall  f1-score   support\n",
            "\n",
            "           0       1.00      1.00      1.00         3\n",
            "           1       0.83      0.07      0.13        74\n",
            "           3       0.53      0.06      0.11       444\n",
            "           4       0.84      0.99      0.91      3030\n",
            "           5       1.00      0.01      0.02        91\n",
            "\n",
            "    accuracy                           0.84      3642\n",
            "   macro avg       0.84      0.43      0.43      3642\n",
            "weighted avg       0.81      0.84      0.78      3642\n",
            "\n",
            "CPU times: user 4.59 s, sys: 12.9 ms, total: 4.6 s\n",
            "Wall time: 4.58 s\n"
          ]
        },
        {
          "output_type": "display_data",
          "data": {
            "text/plain": [
              "<Figure size 576x432 with 1 Axes>"
            ],
            "image/png": "[encoded data removed]"
          },
          "metadata": {
            "needs_background": "light"
          }
        }
      ],
      "source": [
        "%%time\n",
        "# Fit a XGBClassifier model to the train dataset\n",
        "\n",
        "# Import XGBClassifier\n",
        "from xgboost import XGBClassifier\n",
        "\n",
        "\n",
        "# Instantiate the model\n",
        "xgb_clf = XGBClassifier()\n",
        "\n",
        "\n",
        "# fitting the model on train data\n",
        "xgb_clf.fit(X_train,y_train)\n",
        "\n",
        "\n",
        "# print score of the model\n",
        "\n",
        "print_score(xgb_clf)\n",
        "\n",
        "# visualizing importance of features\n",
        "fig, ax = visualize_importance(xgb_clf.feature_importances_,X)\n",
        "\n"
      ]
    },
    {
      "cell_type": "markdown",
      "metadata": {
        "id": "oeh7vVqaX0x_"
      },
      "source": [
        "## Comparing all the model based on metric"
      ]
    },
    {
      "cell_type": "code",
      "execution_count": null,
      "metadata": {
        "id": "y-co7t5-X7w2"
      },
      "outputs": [],
      "source": [
        "# import metrics, train_test_split\n",
        "\n",
        "\n",
        "def compare_models(models,names,X_train,y_train,X_test,y_test):\n",
        "    # the libraries we need\n",
        "    \n",
        "\n",
        "    for (model,name) in zip(models,names):\n",
        "      print(name)\n",
        "      # then predict on the test set\n",
        "      y_pred =  model.predict(X_test)\n",
        "      res = classification_report(y_test,y_pred)\n",
        "      print(\"Classification Report \\n\",res)\n",
        "      print(\"---------------------------------------------------------------------------------------\")\n",
        "    "
      ]
    },
    {
      "cell_type": "code",
      "execution_count": null,
      "metadata": {
        "colab": {
          "base_uri": "https://localhost:8080/"
        },
        "id": "NbNvFvO3X7ut",
        "outputId": "e0b4ce1f-c496-42f1-d584-14de3a6f5ab4",
        "scrolled": true
      },
      "outputs": [
        {
          "output_type": "stream",
          "name": "stdout",
          "text": [
            "logistic\n",
            "Classification Report \n",
            "               precision    recall  f1-score   support\n",
            "\n",
            "           0       0.00      0.00      0.00         3\n",
            "           1       0.00      0.00      0.00        74\n",
            "           3       0.22      0.01      0.02       444\n",
            "           4       0.83      1.00      0.91      3030\n",
            "           5       0.00      0.00      0.00        91\n",
            "\n",
            "    accuracy                           0.83      3642\n",
            "   macro avg       0.21      0.20      0.19      3642\n",
            "weighted avg       0.72      0.83      0.76      3642\n",
            "\n",
            "---------------------------------------------------------------------------------------\n",
            "rf\n",
            "Classification Report \n",
            "               precision    recall  f1-score   support\n",
            "\n",
            "           0       1.00      1.00      1.00         3\n",
            "           1       0.96      0.35      0.51        74\n",
            "           3       0.87      0.32      0.47       444\n",
            "           4       0.88      1.00      0.94      3030\n",
            "           5       1.00      0.32      0.48        91\n",
            "\n",
            "    accuracy                           0.88      3642\n",
            "   macro avg       0.94      0.60      0.68      3642\n",
            "weighted avg       0.88      0.88      0.86      3642\n",
            "\n",
            "---------------------------------------------------------------------------------------\n",
            "AdaBoost\n",
            "Classification Report \n",
            "               precision    recall  f1-score   support\n",
            "\n",
            "           0       1.00      1.00      1.00         3\n",
            "           1       0.01      0.18      0.01        74\n",
            "           3       0.00      0.00      0.00       444\n",
            "           4       0.69      0.34      0.45      3030\n",
            "           5       0.00      0.00      0.00        91\n",
            "\n",
            "    accuracy                           0.29      3642\n",
            "   macro avg       0.34      0.30      0.29      3642\n",
            "weighted avg       0.57      0.29      0.38      3642\n",
            "\n",
            "---------------------------------------------------------------------------------------\n",
            "svc\n",
            "Classification Report \n",
            "               precision    recall  f1-score   support\n",
            "\n",
            "           0       0.00      0.00      0.00         3\n",
            "           1       0.00      0.00      0.00        74\n",
            "           3       0.00      0.00      0.00       444\n",
            "           4       0.83      1.00      0.91      3030\n",
            "           5       0.00      0.00      0.00        91\n",
            "\n",
            "    accuracy                           0.83      3642\n",
            "   macro avg       0.17      0.20      0.18      3642\n",
            "weighted avg       0.69      0.83      0.76      3642\n",
            "\n",
            "---------------------------------------------------------------------------------------\n",
            "Dtree\n",
            "Classification Report \n",
            "               precision    recall  f1-score   support\n",
            "\n",
            "           0       1.00      1.00      1.00         3\n",
            "           1       0.28      0.36      0.31        74\n",
            "           3       0.45      0.47      0.46       444\n",
            "           4       0.91      0.89      0.90      3030\n",
            "           5       0.35      0.37      0.36        91\n",
            "\n",
            "    accuracy                           0.82      3642\n",
            "   macro avg       0.60      0.62      0.61      3642\n",
            "weighted avg       0.82      0.82      0.82      3642\n",
            "\n",
            "---------------------------------------------------------------------------------------\n",
            "KNN\n",
            "Classification Report \n",
            "               precision    recall  f1-score   support\n",
            "\n",
            "           0       0.00      0.00      0.00         3\n",
            "           1       0.23      0.04      0.07        74\n",
            "           3       0.37      0.15      0.21       444\n",
            "           4       0.85      0.96      0.90      3030\n",
            "           5       0.43      0.10      0.16        91\n",
            "\n",
            "    accuracy                           0.82      3642\n",
            "   macro avg       0.38      0.25      0.27      3642\n",
            "weighted avg       0.77      0.82      0.78      3642\n",
            "\n",
            "---------------------------------------------------------------------------------------\n",
            "GBR\n",
            "Classification Report \n",
            "               precision    recall  f1-score   support\n",
            "\n",
            "           0       1.00      1.00      1.00         3\n",
            "           1       0.63      0.16      0.26        74\n",
            "           3       0.55      0.11      0.18       444\n",
            "           4       0.85      0.99      0.91      3030\n",
            "           5       0.75      0.13      0.22        91\n",
            "\n",
            "    accuracy                           0.84      3642\n",
            "   macro avg       0.76      0.48      0.52      3642\n",
            "weighted avg       0.81      0.84      0.79      3642\n",
            "\n",
            "---------------------------------------------------------------------------------------\n",
            "bagging\n",
            "Classification Report \n",
            "               precision    recall  f1-score   support\n",
            "\n",
            "           0       1.00      1.00      1.00         3\n",
            "           1       0.88      0.38      0.53        74\n",
            "           3       0.56      0.40      0.47       444\n",
            "           4       0.89      0.96      0.93      3030\n",
            "           5       0.88      0.32      0.47        91\n",
            "\n",
            "    accuracy                           0.86      3642\n",
            "   macro avg       0.84      0.61      0.68      3642\n",
            "weighted avg       0.85      0.86      0.85      3642\n",
            "\n",
            "---------------------------------------------------------------------------------------\n",
            "voting\n",
            "Classification Report \n",
            "               precision    recall  f1-score   support\n",
            "\n",
            "           0       1.00      1.00      1.00         3\n",
            "           1       1.00      0.35      0.52        74\n",
            "           3       0.85      0.31      0.46       444\n",
            "           4       0.87      0.99      0.93      3030\n",
            "           5       1.00      0.11      0.20        91\n",
            "\n",
            "    accuracy                           0.88      3642\n",
            "   macro avg       0.94      0.55      0.62      3642\n",
            "weighted avg       0.88      0.88      0.85      3642\n",
            "\n",
            "---------------------------------------------------------------------------------------\n",
            "XGB\n",
            "Classification Report \n",
            "               precision    recall  f1-score   support\n",
            "\n",
            "           0       1.00      1.00      1.00         3\n",
            "           1       0.83      0.07      0.13        74\n",
            "           3       0.53      0.06      0.11       444\n",
            "           4       0.84      0.99      0.91      3030\n",
            "           5       1.00      0.01      0.02        91\n",
            "\n",
            "    accuracy                           0.84      3642\n",
            "   macro avg       0.84      0.43      0.43      3642\n",
            "weighted avg       0.81      0.84      0.78      3642\n",
            "\n",
            "---------------------------------------------------------------------------------------\n"
          ]
        }
      ],
      "source": [
        "# list of model objects\n",
        "models= [log_class,rf_clf,Ada_clf,svc, dt_clf, knn_clf, GBR_clf,bg_clf, voting_clf, xgb_clf ]\n",
        "# list of model names\n",
        "names = ['logistic', 'rf','AdaBoost', 'svc', 'Dtree','KNN','GBR','bagging','voting','XGB']\n",
        "# print the comparison of models\n",
        "\n",
        "compare_models(models,names,X_train,y_train,X_test,y_test)\n"
      ]
    },
    {
      "cell_type": "markdown",
      "metadata": {
        "id": "D3SXVk0EkYz6"
      },
      "source": [
        "# Hyperparameter tuning\n",
        "\n",
        "\n"
      ]
    },
    {
      "cell_type": "markdown",
      "metadata": {
        "id": "Lpgf1tQDtAgl"
      },
      "source": [
        "# grid search\n",
        "\n"
      ]
    },
    {
      "cell_type": "code",
      "execution_count": null,
      "metadata": {
        "colab": {
          "base_uri": "https://localhost:8080/"
        },
        "id": "qfFua0zOGs1g",
        "outputId": "fac08fcc-6e9e-44d5-c826-a324f79f1c50"
      },
      "outputs": [
        {
          "output_type": "stream",
          "name": "stdout",
          "text": [
            "CPU times: user 0 ns, sys: 7 µs, total: 7 µs\n",
            "Wall time: 11.4 µs\n"
          ]
        }
      ],
      "source": [
        "%%time\n",
        "# Helper function to perform hyper parameter tunning with GridSearchCV\n",
        "def grid_search(model,grid):\n",
        "  from sklearn.model_selection import GridSearchCV, train_test_split\n",
        "  from sklearn.model_selection import KFold\n",
        "  from sklearn.model_selection import GridSearchCV\n",
        "\n",
        "  \n",
        "  cv =KFold(n_splits=5,shuffle=False,random_state=None)\n",
        "\n",
        "  clf = GridSearchCV(model,grid,cv =cv,n_jobs=1,scoring='f1_macro')\n",
        "  \n",
        "  # print clf.score and best_params_\n",
        "  clf.fit(X_train,y_train)\n",
        "  print(clf.score(X_train,y_train))\n",
        "  print(clf.best_params_)"
      ]
    },
    {
      "cell_type": "code",
      "execution_count": null,
      "metadata": {
        "colab": {
          "base_uri": "https://localhost:8080/"
        },
        "id": "os_7of2KGsyG",
        "outputId": "4904853b-babf-4981-ea19-7b21a26cf34d"
      },
      "outputs": [
        {
          "output_type": "stream",
          "name": "stdout",
          "text": [
            "0.18859601500979314\n",
            "{'C': 1.0, 'penalty': 'l2'}\n",
            "CPU times: user 31.6 s, sys: 21.6 s, total: 53.2 s\n",
            "Wall time: 34.8 s\n"
          ]
        }
      ],
      "source": [
        "%%time\n",
        "# create  parameters dict in list for tunning\n",
        "log_para_grid = {\n",
        "    'C':10.0 **np.arange(-2,3),\n",
        "    'penalty':['l1','l2']\n",
        "    }\n",
        "\n",
        "# passing data for hyper parameter tunning with Gridsearchcv    \n",
        "\n",
        "grid_search(log_class,log_para_grid)\n"
      ]
    },
    {
      "cell_type": "markdown",
      "metadata": {
        "id": "SPue9UAwuE2-"
      },
      "source": [
        "# NOTE : you can use any one of RandomizedSearchCv or GridSearchCV, both works fine."
      ]
    },
    {
      "cell_type": "markdown",
      "metadata": {
        "id": "urOghUPUuMJv"
      },
      "source": [
        "# RamdomizedSearchCV"
      ]
    },
    {
      "cell_type": "code",
      "execution_count": null,
      "metadata": {
        "id": "1OEI_PBza7Zn"
      },
      "outputs": [],
      "source": [
        "# Helper function to perform hyper parameter tunning with RandomizedSearchCV\n",
        "def random_Search(model,X_train, Y_train,param_grid):\n",
        "  from sklearn.model_selection import RandomizedSearchCV\n",
        "\n",
        "  # Random search of parameters, using 3 fold cross validation, \n",
        "  # search across 100 different combinations, and use all available cores\n",
        "  # Fit the random search model\n",
        "  random = RandomizedSearchCV(estimator=model,param_distributions=param_grid,n_iter=10,cv=3,verbose=2,random_state=42)\n",
        "  \n",
        "  #fit on train\n",
        "  random.fit(X_train,y_train)\n",
        "  # print best_params_\n",
        "  print(random.best_params_)\n",
        "  "
      ]
    },
    {
      "cell_type": "code",
      "execution_count": null,
      "metadata": {
        "colab": {
          "base_uri": "https://localhost:8080/"
        },
        "id": "cCmhpVIua7Wy",
        "outputId": "583d2691-5030-4fae-e640-681336b0a06e"
      },
      "outputs": [
        {
          "output_type": "stream",
          "name": "stdout",
          "text": [
            "Fitting 3 folds for each of 10 candidates, totalling 30 fits\n",
            "[CV] END bootstrap=True, max_depth=6, max_features=auto, min_samples_leaf=2, min_samples_split=5, n_estimators=200; total time=   2.1s\n",
            "[CV] END bootstrap=True, max_depth=6, max_features=auto, min_samples_leaf=2, min_samples_split=5, n_estimators=200; total time=   4.3s\n",
            "[CV] END bootstrap=True, max_depth=6, max_features=auto, min_samples_leaf=2, min_samples_split=5, n_estimators=200; total time=   5.3s\n",
            "[CV] END bootstrap=False, max_depth=6, max_features=auto, min_samples_leaf=2, min_samples_split=2, n_estimators=150; total time=   4.9s\n",
            "[CV] END bootstrap=False, max_depth=6, max_features=auto, min_samples_leaf=2, min_samples_split=2, n_estimators=150; total time=   4.1s\n",
            "[CV] END bootstrap=False, max_depth=6, max_features=auto, min_samples_leaf=2, min_samples_split=2, n_estimators=150; total time=   2.4s\n",
            "[CV] END bootstrap=True, max_depth=10, max_features=auto, min_samples_leaf=2, min_samples_split=5, n_estimators=150; total time=   2.3s\n",
            "[CV] END bootstrap=True, max_depth=10, max_features=auto, min_samples_leaf=2, min_samples_split=5, n_estimators=150; total time=   2.3s\n",
            "[CV] END bootstrap=True, max_depth=10, max_features=auto, min_samples_leaf=2, min_samples_split=5, n_estimators=150; total time=   2.3s\n",
            "[CV] END bootstrap=False, max_depth=6, max_features=auto, min_samples_leaf=2, min_samples_split=5, n_estimators=300; total time=   4.1s\n",
            "[CV] END bootstrap=False, max_depth=6, max_features=auto, min_samples_leaf=2, min_samples_split=5, n_estimators=300; total time=   4.1s\n",
            "[CV] END bootstrap=False, max_depth=6, max_features=auto, min_samples_leaf=2, min_samples_split=5, n_estimators=300; total time=   4.1s\n",
            "[CV] END bootstrap=False, max_depth=3, max_features=sqrt, min_samples_leaf=1, min_samples_split=2, n_estimators=200; total time=   1.6s\n",
            "[CV] END bootstrap=False, max_depth=3, max_features=sqrt, min_samples_leaf=1, min_samples_split=2, n_estimators=200; total time=   1.6s\n",
            "[CV] END bootstrap=False, max_depth=3, max_features=sqrt, min_samples_leaf=1, min_samples_split=2, n_estimators=200; total time=   1.5s\n",
            "[CV] END bootstrap=False, max_depth=10, max_features=sqrt, min_samples_leaf=1, min_samples_split=2, n_estimators=200; total time=   4.2s\n",
            "[CV] END bootstrap=False, max_depth=10, max_features=sqrt, min_samples_leaf=1, min_samples_split=2, n_estimators=200; total time=   4.3s\n",
            "[CV] END bootstrap=False, max_depth=10, max_features=sqrt, min_samples_leaf=1, min_samples_split=2, n_estimators=200; total time=   4.3s\n",
            "[CV] END bootstrap=True, max_depth=3, max_features=auto, min_samples_leaf=2, min_samples_split=5, n_estimators=300; total time=   1.9s\n",
            "[CV] END bootstrap=True, max_depth=3, max_features=auto, min_samples_leaf=2, min_samples_split=5, n_estimators=300; total time=   1.9s\n",
            "[CV] END bootstrap=True, max_depth=3, max_features=auto, min_samples_leaf=2, min_samples_split=5, n_estimators=300; total time=   1.9s\n",
            "[CV] END bootstrap=True, max_depth=3, max_features=sqrt, min_samples_leaf=1, min_samples_split=2, n_estimators=250; total time=   1.6s\n",
            "[CV] END bootstrap=True, max_depth=3, max_features=sqrt, min_samples_leaf=1, min_samples_split=2, n_estimators=250; total time=   2.2s\n",
            "[CV] END bootstrap=True, max_depth=3, max_features=sqrt, min_samples_leaf=1, min_samples_split=2, n_estimators=250; total time=   1.8s\n",
            "[CV] END bootstrap=True, max_depth=3, max_features=sqrt, min_samples_leaf=1, min_samples_split=2, n_estimators=150; total time=   1.0s\n",
            "[CV] END bootstrap=True, max_depth=3, max_features=sqrt, min_samples_leaf=1, min_samples_split=2, n_estimators=150; total time=   1.0s\n",
            "[CV] END bootstrap=True, max_depth=3, max_features=sqrt, min_samples_leaf=1, min_samples_split=2, n_estimators=150; total time=   1.0s\n",
            "[CV] END bootstrap=True, max_depth=3, max_features=auto, min_samples_leaf=2, min_samples_split=2, n_estimators=200; total time=   1.3s\n",
            "[CV] END bootstrap=True, max_depth=3, max_features=auto, min_samples_leaf=2, min_samples_split=2, n_estimators=200; total time=   1.3s\n",
            "[CV] END bootstrap=True, max_depth=3, max_features=auto, min_samples_leaf=2, min_samples_split=2, n_estimators=200; total time=   1.3s\n",
            "{'n_estimators': 200, 'min_samples_split': 2, 'min_samples_leaf': 1, 'max_features': 'sqrt', 'max_depth': 10, 'bootstrap': False}\n",
            "CPU times: user 1min 16s, sys: 207 ms, total: 1min 17s\n",
            "Wall time: 1min 24s\n"
          ]
        }
      ],
      "source": [
        "%%time\n",
        "# create parameters dict for tunning\n",
        "rf_para_grid = {'n_estimators': list(range(150, 301, 50)),\n",
        "               'max_features': ['auto', 'sqrt'],\n",
        "               'max_depth': [int(x) for x in np.linspace(3, 10, num = 3)],\n",
        "               'min_samples_split': [2, 5],\n",
        "               'min_samples_leaf': [1, 2],\n",
        "               'bootstrap': [True, False]}\n",
        "\n",
        "# passing data for hyper parameter tunning with Randomized search cv\n",
        "random_Search(RandomForestClassifier(),X_train,y_train,param_grid=rf_para_grid)\n",
        "\n"
      ]
    },
    {
      "cell_type": "code",
      "execution_count": null,
      "metadata": {
        "colab": {
          "base_uri": "https://localhost:8080/"
        },
        "id": "p-9mFqenunJu",
        "outputId": "856162e5-cc6d-44e8-83fc-8c631f3ea530"
      },
      "outputs": [
        {
          "output_type": "stream",
          "name": "stdout",
          "text": [
            "Fitting 3 folds for each of 10 candidates, totalling 30 fits\n",
            "[CV] END learning_rate=0.2, max_depth=6, min_samples_split=2, n_estimators=200; total time= 1.1min\n",
            "[CV] END learning_rate=0.2, max_depth=6, min_samples_split=2, n_estimators=200; total time= 1.0min\n",
            "[CV] END learning_rate=0.2, max_depth=6, min_samples_split=2, n_estimators=200; total time= 1.1min\n",
            "[CV] END learning_rate=0.2, max_depth=5, min_samples_split=5, n_estimators=250; total time= 1.0min\n",
            "[CV] END learning_rate=0.2, max_depth=5, min_samples_split=5, n_estimators=250; total time=  58.1s\n",
            "[CV] END learning_rate=0.2, max_depth=5, min_samples_split=5, n_estimators=250; total time= 1.2min\n",
            "[CV] END learning_rate=0.2, max_depth=5, min_samples_split=4, n_estimators=250; total time= 1.2min\n",
            "[CV] END learning_rate=0.2, max_depth=5, min_samples_split=4, n_estimators=250; total time= 1.2min\n",
            "[CV] END learning_rate=0.2, max_depth=5, min_samples_split=4, n_estimators=250; total time=  57.3s\n",
            "[CV] END learning_rate=0.2, max_depth=6, min_samples_split=5, n_estimators=300; total time= 1.4min\n",
            "[CV] END learning_rate=0.2, max_depth=6, min_samples_split=5, n_estimators=300; total time= 1.4min\n",
            "[CV] END learning_rate=0.2, max_depth=6, min_samples_split=5, n_estimators=300; total time= 1.4min\n",
            "[CV] END learning_rate=0.1, max_depth=5, min_samples_split=2, n_estimators=250; total time= 1.2min\n",
            "[CV] END learning_rate=0.1, max_depth=5, min_samples_split=2, n_estimators=250; total time= 1.2min\n",
            "[CV] END learning_rate=0.1, max_depth=5, min_samples_split=2, n_estimators=250; total time= 1.2min\n",
            "[CV] END learning_rate=0.2, max_depth=5, min_samples_split=5, n_estimators=350; total time= 1.4min\n",
            "[CV] END learning_rate=0.2, max_depth=5, min_samples_split=5, n_estimators=350; total time= 1.3min\n",
            "[CV] END learning_rate=0.2, max_depth=5, min_samples_split=5, n_estimators=350; total time= 1.3min\n",
            "[CV] END learning_rate=0.2, max_depth=5, min_samples_split=3, n_estimators=250; total time=  50.9s\n",
            "[CV] END learning_rate=0.2, max_depth=5, min_samples_split=3, n_estimators=250; total time=  50.9s\n",
            "[CV] END learning_rate=0.2, max_depth=5, min_samples_split=3, n_estimators=250; total time=  51.8s\n",
            "[CV] END learning_rate=0.1, max_depth=5, min_samples_split=4, n_estimators=300; total time= 1.1min\n",
            "[CV] END learning_rate=0.1, max_depth=5, min_samples_split=4, n_estimators=300; total time= 1.1min\n",
            "[CV] END learning_rate=0.1, max_depth=5, min_samples_split=4, n_estimators=300; total time= 1.1min\n",
            "[CV] END learning_rate=0.01, max_depth=5, min_samples_split=2, n_estimators=200; total time=  47.9s\n",
            "[CV] END learning_rate=0.01, max_depth=5, min_samples_split=2, n_estimators=200; total time=  47.2s\n",
            "[CV] END learning_rate=0.01, max_depth=5, min_samples_split=2, n_estimators=200; total time=  47.0s\n",
            "[CV] END learning_rate=0.01, max_depth=5, min_samples_split=4, n_estimators=300; total time= 1.2min\n",
            "[CV] END learning_rate=0.01, max_depth=5, min_samples_split=4, n_estimators=300; total time= 1.2min\n",
            "[CV] END learning_rate=0.01, max_depth=5, min_samples_split=4, n_estimators=300; total time= 1.2min\n",
            "{'n_estimators': 300, 'min_samples_split': 5, 'max_depth': 6, 'learning_rate': 0.2}\n",
            "CPU times: user 33min 11s, sys: 3.67 s, total: 33min 14s\n",
            "Wall time: 34min 54s\n"
          ]
        }
      ],
      "source": [
        "%%time\n",
        "# create parameters dict for tunning\n",
        "GBR_para_grid = {\n",
        "'n_estimators':  [x for x in range(200,351, 50)], \n",
        " 'learning_rate' : [0.01, 0.1, 0.2],\n",
        " 'max_depth': [x for x in range(5,7)], \n",
        " 'min_samples_split': [x for x in range(2,6)]\n",
        "}\n",
        "\n",
        "# passing data for hyper parameter tunning with Randomized search cv\n",
        "\n",
        "random_Search(GradientBoostingClassifier(),X_train,y_train,param_grid=GBR_para_grid)\n",
        "\n"
      ]
    },
    {
      "cell_type": "code",
      "execution_count": null,
      "metadata": {
        "colab": {
          "base_uri": "https://localhost:8080/"
        },
        "id": "Q6etHBiQunD1",
        "outputId": "dc5d9082-4108-4a72-9780-d2d6b2b25dc5"
      },
      "outputs": [
        {
          "output_type": "stream",
          "name": "stdout",
          "text": [
            "Fitting 3 folds for each of 10 candidates, totalling 30 fits\n",
            "[CV] END ........................leaf_size=7, n_neighbors=14; total time=   0.4s\n",
            "[CV] END ........................leaf_size=7, n_neighbors=14; total time=   0.3s\n",
            "[CV] END ........................leaf_size=7, n_neighbors=14; total time=   0.3s\n",
            "[CV] END ........................leaf_size=7, n_neighbors=17; total time=   0.4s\n",
            "[CV] END ........................leaf_size=7, n_neighbors=17; total time=   0.3s\n",
            "[CV] END ........................leaf_size=7, n_neighbors=17; total time=   0.3s\n",
            "[CV] END ........................leaf_size=3, n_neighbors=14; total time=   0.4s\n",
            "[CV] END ........................leaf_size=3, n_neighbors=14; total time=   0.5s\n",
            "[CV] END ........................leaf_size=3, n_neighbors=14; total time=   0.6s\n",
            "[CV] END ........................leaf_size=7, n_neighbors=25; total time=   0.6s\n",
            "[CV] END ........................leaf_size=7, n_neighbors=25; total time=   0.5s\n",
            "[CV] END ........................leaf_size=7, n_neighbors=25; total time=   0.5s\n",
            "[CV] END ........................leaf_size=5, n_neighbors=16; total time=   0.3s\n",
            "[CV] END ........................leaf_size=5, n_neighbors=16; total time=   0.3s\n",
            "[CV] END ........................leaf_size=5, n_neighbors=16; total time=   0.3s\n",
            "[CV] END ........................leaf_size=9, n_neighbors=14; total time=   0.3s\n",
            "[CV] END ........................leaf_size=9, n_neighbors=14; total time=   0.3s\n",
            "[CV] END ........................leaf_size=9, n_neighbors=14; total time=   0.3s\n",
            "[CV] END ........................leaf_size=9, n_neighbors=23; total time=   0.3s\n",
            "[CV] END ........................leaf_size=9, n_neighbors=23; total time=   0.3s\n",
            "[CV] END ........................leaf_size=9, n_neighbors=23; total time=   0.3s\n",
            "[CV] END ........................leaf_size=3, n_neighbors=20; total time=   0.4s\n",
            "[CV] END ........................leaf_size=3, n_neighbors=20; total time=   0.4s\n",
            "[CV] END ........................leaf_size=3, n_neighbors=20; total time=   0.4s\n",
            "[CV] END ........................leaf_size=7, n_neighbors=10; total time=   0.3s\n",
            "[CV] END ........................leaf_size=7, n_neighbors=10; total time=   0.3s\n",
            "[CV] END ........................leaf_size=7, n_neighbors=10; total time=   0.3s\n",
            "[CV] END .......................leaf_size=13, n_neighbors=17; total time=   0.3s\n",
            "[CV] END .......................leaf_size=13, n_neighbors=17; total time=   0.3s\n",
            "[CV] END .......................leaf_size=13, n_neighbors=17; total time=   0.3s\n",
            "{'n_neighbors': 25, 'leaf_size': 7}\n",
            "CPU times: user 10.9 s, sys: 152 ms, total: 11 s\n",
            "Wall time: 11 s\n"
          ]
        }
      ],
      "source": [
        "%%time\n",
        "# create parameters dict for tunning\n",
        "knn_para_grid = {\n",
        "                  'leaf_size' :list(range(3,15,2)),\n",
        "                  'n_neighbors' : list(range(10,30))\n",
        "              }\n",
        "\n",
        "# passing data for hyper parameter tunning with Randomized search cv\n",
        "\n",
        "\n",
        "random_Search(KNeighborsClassifier(),X_train,y_train,param_grid=knn_para_grid)\n"
      ]
    },
    {
      "cell_type": "code",
      "execution_count": null,
      "metadata": {
        "colab": {
          "base_uri": "https://localhost:8080/"
        },
        "id": "tSGl3uhnum-e",
        "outputId": "e5231bac-97b7-4b4f-d233-a7f8a2eab2f7"
      },
      "outputs": [
        {
          "output_type": "stream",
          "name": "stdout",
          "text": [
            "Fitting 3 folds for each of 10 candidates, totalling 30 fits\n",
            "[CV] END max_depth=9, max_features=log2, min_samples_leaf=1, splitter=best; total time=   0.0s\n",
            "[CV] END max_depth=9, max_features=log2, min_samples_leaf=1, splitter=best; total time=   0.0s\n",
            "[CV] END max_depth=9, max_features=log2, min_samples_leaf=1, splitter=best; total time=   0.0s\n",
            "[CV] END max_depth=9, max_features=auto, min_samples_leaf=3, splitter=random; total time=   0.0s\n",
            "[CV] END max_depth=9, max_features=auto, min_samples_leaf=3, splitter=random; total time=   0.0s\n",
            "[CV] END max_depth=9, max_features=auto, min_samples_leaf=3, splitter=random; total time=   0.0s\n",
            "[CV] END max_depth=9, max_features=auto, min_samples_leaf=1, splitter=random; total time=   0.0s\n",
            "[CV] END max_depth=9, max_features=auto, min_samples_leaf=1, splitter=random; total time=   0.0s\n",
            "[CV] END max_depth=9, max_features=auto, min_samples_leaf=1, splitter=random; total time=   0.0s\n",
            "[CV] END max_depth=9, max_features=sqrt, min_samples_leaf=4, splitter=best; total time=   0.0s\n",
            "[CV] END max_depth=9, max_features=sqrt, min_samples_leaf=4, splitter=best; total time=   0.0s\n",
            "[CV] END max_depth=9, max_features=sqrt, min_samples_leaf=4, splitter=best; total time=   0.0s\n",
            "[CV] END max_depth=5, max_features=log2, min_samples_leaf=1, splitter=random; total time=   0.0s\n",
            "[CV] END max_depth=5, max_features=log2, min_samples_leaf=1, splitter=random; total time=   0.0s\n",
            "[CV] END max_depth=5, max_features=log2, min_samples_leaf=1, splitter=random; total time=   0.0s\n",
            "[CV] END max_depth=9, max_features=auto, min_samples_leaf=4, splitter=random; total time=   0.0s\n",
            "[CV] END max_depth=9, max_features=auto, min_samples_leaf=4, splitter=random; total time=   0.0s\n",
            "[CV] END max_depth=9, max_features=auto, min_samples_leaf=4, splitter=random; total time=   0.0s\n",
            "[CV] END max_depth=7, max_features=sqrt, min_samples_leaf=3, splitter=random; total time=   0.0s\n",
            "[CV] END max_depth=7, max_features=sqrt, min_samples_leaf=3, splitter=random; total time=   0.0s\n",
            "[CV] END max_depth=7, max_features=sqrt, min_samples_leaf=3, splitter=random; total time=   0.0s\n",
            "[CV] END max_depth=5, max_features=sqrt, min_samples_leaf=2, splitter=best; total time=   0.0s\n",
            "[CV] END max_depth=5, max_features=sqrt, min_samples_leaf=2, splitter=best; total time=   0.0s\n",
            "[CV] END max_depth=5, max_features=sqrt, min_samples_leaf=2, splitter=best; total time=   0.0s\n",
            "[CV] END max_depth=3, max_features=auto, min_samples_leaf=1, splitter=best; total time=   0.0s\n",
            "[CV] END max_depth=3, max_features=auto, min_samples_leaf=1, splitter=best; total time=   0.0s\n",
            "[CV] END max_depth=3, max_features=auto, min_samples_leaf=1, splitter=best; total time=   0.0s\n",
            "[CV] END max_depth=3, max_features=log2, min_samples_leaf=2, splitter=best; total time=   0.0s\n",
            "[CV] END max_depth=3, max_features=log2, min_samples_leaf=2, splitter=best; total time=   0.0s\n",
            "[CV] END max_depth=3, max_features=log2, min_samples_leaf=2, splitter=best; total time=   0.0s\n",
            "{'splitter': 'best', 'min_samples_leaf': 1, 'max_features': 'auto', 'max_depth': 3}\n",
            "CPU times: user 510 ms, sys: 8.11 ms, total: 518 ms\n",
            "Wall time: 512 ms\n"
          ]
        }
      ],
      "source": [
        "%%time\n",
        "# create  parameters dict for tunning\n",
        "DTR_para_grid = {\n",
        "                  \"splitter\":[\"best\",\"random\"],\n",
        "            \"max_depth\" : [3,5,7,9],\n",
        "           \"min_samples_leaf\":[1,2,3,4],\n",
        "           \"max_features\":[\"auto\",\"log2\",\"sqrt\"]\n",
        "              }\n",
        "\n",
        "# passing data for hyper parameter tunning with Randomized search cv\n",
        "\n",
        "random_Search(DecisionTreeClassifier(),X_train,y_train,param_grid=DTR_para_grid)\n"
      ]
    },
    {
      "cell_type": "code",
      "execution_count": null,
      "metadata": {
        "colab": {
          "base_uri": "https://localhost:8080/"
        },
        "id": "aH9HB-Evum4O",
        "outputId": "51b605c9-dfa6-4d69-820d-a182d707d143"
      },
      "outputs": [
        {
          "output_type": "stream",
          "name": "stdout",
          "text": [
            "Fitting 3 folds for each of 10 candidates, totalling 30 fits\n",
            "[CV] END ................learning_rate=1.0, n_estimators=200; total time=   4.0s\n",
            "[CV] END ................learning_rate=1.0, n_estimators=200; total time=   3.3s\n",
            "[CV] END ................learning_rate=1.0, n_estimators=200; total time=   4.6s\n",
            "[CV] END ................learning_rate=1.0, n_estimators=100; total time=   4.3s\n",
            "[CV] END ................learning_rate=1.0, n_estimators=100; total time=   1.6s\n",
            "[CV] END ................learning_rate=1.0, n_estimators=100; total time=   1.7s\n",
            "[CV] END ..............learning_rate=0.001, n_estimators=100; total time=   1.7s\n",
            "[CV] END ..............learning_rate=0.001, n_estimators=100; total time=   1.7s\n",
            "[CV] END ..............learning_rate=0.001, n_estimators=100; total time=   1.7s\n",
            "[CV] END ................learning_rate=0.1, n_estimators=300; total time=   4.9s\n",
            "[CV] END ................learning_rate=0.1, n_estimators=300; total time=   4.9s\n",
            "[CV] END ................learning_rate=0.1, n_estimators=300; total time=   5.0s\n",
            "[CV] END ...............learning_rate=0.01, n_estimators=300; total time=   4.9s\n",
            "[CV] END ...............learning_rate=0.01, n_estimators=300; total time=   4.9s\n",
            "[CV] END ...............learning_rate=0.01, n_estimators=300; total time=   4.9s\n",
            "[CV] END ..............learning_rate=0.001, n_estimators=300; total time=   5.0s\n",
            "[CV] END ..............learning_rate=0.001, n_estimators=300; total time=   5.0s\n",
            "[CV] END ..............learning_rate=0.001, n_estimators=300; total time=   5.0s\n",
            "[CV] END ..............learning_rate=0.001, n_estimators=200; total time=   3.3s\n",
            "[CV] END ..............learning_rate=0.001, n_estimators=200; total time=   3.3s\n",
            "[CV] END ..............learning_rate=0.001, n_estimators=200; total time=   3.8s\n",
            "[CV] END ................learning_rate=1.0, n_estimators=300; total time=   4.9s\n",
            "[CV] END ................learning_rate=1.0, n_estimators=300; total time=   4.9s\n",
            "[CV] END ................learning_rate=1.0, n_estimators=300; total time=   4.9s\n",
            "[CV] END ...............learning_rate=0.01, n_estimators=200; total time=   3.3s\n",
            "[CV] END ...............learning_rate=0.01, n_estimators=200; total time=   3.3s\n",
            "[CV] END ...............learning_rate=0.01, n_estimators=200; total time=   3.3s\n",
            "[CV] END ................learning_rate=0.1, n_estimators=200; total time=   3.3s\n",
            "[CV] END ................learning_rate=0.1, n_estimators=200; total time=   3.3s\n",
            "[CV] END ................learning_rate=0.1, n_estimators=200; total time=   3.3s\n",
            "{'n_estimators': 300, 'learning_rate': 0.01}\n",
            "CPU times: user 1min 57s, sys: 617 ms, total: 1min 57s\n",
            "Wall time: 2min\n"
          ]
        }
      ],
      "source": [
        "%%time\n",
        "# create  parameters dict for tunning\n",
        "Ada_para_grid = {\n",
        "                  'n_estimators' :[100, 200, 300],\n",
        "                  'learning_rate' : [0.001, 0.01, 0.1, 1.0]\n",
        "              }\n",
        "\n",
        "# passing data for hyper parameter tunning with Randomized search cv\n",
        "\n",
        "random_Search(AdaBoostClassifier(),X_train,y_train,param_grid=Ada_para_grid)\n"
      ]
    },
    {
      "cell_type": "code",
      "execution_count": null,
      "metadata": {
        "colab": {
          "base_uri": "https://localhost:8080/"
        },
        "id": "JU8JgnF9umwR",
        "outputId": "e8918ace-8312-4e14-f1a5-9da28558197e"
      },
      "outputs": [
        {
          "output_type": "stream",
          "name": "stdout",
          "text": [
            "Fitting 3 folds for each of 10 candidates, totalling 30 fits\n",
            "[CV] END colsample_bytree=0.3, gamma=0.0, learning_rate=0.05, max_depth=4, min_child_weight=5; total time=   2.1s\n",
            "[CV] END colsample_bytree=0.3, gamma=0.0, learning_rate=0.05, max_depth=4, min_child_weight=5; total time=   2.1s\n",
            "[CV] END colsample_bytree=0.3, gamma=0.0, learning_rate=0.05, max_depth=4, min_child_weight=5; total time=   2.1s\n",
            "[CV] END colsample_bytree=0.4, gamma=0.1, learning_rate=0.05, max_depth=5, min_child_weight=7; total time=   3.0s\n",
            "[CV] END colsample_bytree=0.4, gamma=0.1, learning_rate=0.05, max_depth=5, min_child_weight=7; total time=   3.0s\n",
            "[CV] END colsample_bytree=0.4, gamma=0.1, learning_rate=0.05, max_depth=5, min_child_weight=7; total time=   3.0s\n",
            "[CV] END colsample_bytree=0.3, gamma=0.1, learning_rate=0.05, max_depth=3, min_child_weight=3; total time=   1.7s\n",
            "[CV] END colsample_bytree=0.3, gamma=0.1, learning_rate=0.05, max_depth=3, min_child_weight=3; total time=   1.7s\n",
            "[CV] END colsample_bytree=0.3, gamma=0.1, learning_rate=0.05, max_depth=3, min_child_weight=3; total time=   1.7s\n",
            "[CV] END colsample_bytree=0.3, gamma=0.0, learning_rate=0.05, max_depth=3, min_child_weight=3; total time=   1.7s\n",
            "[CV] END colsample_bytree=0.3, gamma=0.0, learning_rate=0.05, max_depth=3, min_child_weight=3; total time=   1.7s\n",
            "[CV] END colsample_bytree=0.3, gamma=0.0, learning_rate=0.05, max_depth=3, min_child_weight=3; total time=   1.7s\n",
            "[CV] END colsample_bytree=0.3, gamma=0.1, learning_rate=0.1, max_depth=3, min_child_weight=5; total time=   1.7s\n",
            "[CV] END colsample_bytree=0.3, gamma=0.1, learning_rate=0.1, max_depth=3, min_child_weight=5; total time=   1.7s\n",
            "[CV] END colsample_bytree=0.3, gamma=0.1, learning_rate=0.1, max_depth=3, min_child_weight=5; total time=   1.7s\n",
            "[CV] END colsample_bytree=0.4, gamma=0.0, learning_rate=0.1, max_depth=4, min_child_weight=7; total time=   2.4s\n",
            "[CV] END colsample_bytree=0.4, gamma=0.0, learning_rate=0.1, max_depth=4, min_child_weight=7; total time=   2.4s\n",
            "[CV] END colsample_bytree=0.4, gamma=0.0, learning_rate=0.1, max_depth=4, min_child_weight=7; total time=   2.4s\n",
            "[CV] END colsample_bytree=0.3, gamma=0.0, learning_rate=0.1, max_depth=3, min_child_weight=5; total time=   1.7s\n",
            "[CV] END colsample_bytree=0.3, gamma=0.0, learning_rate=0.1, max_depth=3, min_child_weight=5; total time=   1.7s\n",
            "[CV] END colsample_bytree=0.3, gamma=0.0, learning_rate=0.1, max_depth=3, min_child_weight=5; total time=   1.7s\n",
            "[CV] END colsample_bytree=0.3, gamma=0.1, learning_rate=0.1, max_depth=5, min_child_weight=5; total time=   2.5s\n",
            "[CV] END colsample_bytree=0.3, gamma=0.1, learning_rate=0.1, max_depth=5, min_child_weight=5; total time=   2.5s\n",
            "[CV] END colsample_bytree=0.3, gamma=0.1, learning_rate=0.1, max_depth=5, min_child_weight=5; total time=   2.5s\n",
            "[CV] END colsample_bytree=0.3, gamma=0.0, learning_rate=0.1, max_depth=4, min_child_weight=3; total time=   2.1s\n",
            "[CV] END colsample_bytree=0.3, gamma=0.0, learning_rate=0.1, max_depth=4, min_child_weight=3; total time=   2.1s\n",
            "[CV] END colsample_bytree=0.3, gamma=0.0, learning_rate=0.1, max_depth=4, min_child_weight=3; total time=   2.1s\n",
            "[CV] END colsample_bytree=0.4, gamma=0.1, learning_rate=0.05, max_depth=3, min_child_weight=3; total time=   2.0s\n",
            "[CV] END colsample_bytree=0.4, gamma=0.1, learning_rate=0.05, max_depth=3, min_child_weight=3; total time=   1.9s\n",
            "[CV] END colsample_bytree=0.4, gamma=0.1, learning_rate=0.05, max_depth=3, min_child_weight=3; total time=   2.0s\n",
            "{'min_child_weight': 5, 'max_depth': 5, 'learning_rate': 0.1, 'gamma': 0.1, 'colsample_bytree': 0.3}\n",
            "CPU times: user 1min 6s, sys: 225 ms, total: 1min 6s\n",
            "Wall time: 1min 6s\n"
          ]
        }
      ],
      "source": [
        "%%time\n",
        "# create  parameters dict for tunning\n",
        "XGB_para_grid = {\"learning_rate\"    : [0.05, 0.10] ,\n",
        " \"max_depth\"        : [ 3, 4, 5],\n",
        " \"min_child_weight\" : [ 3, 5, 7 ],\n",
        " \"gamma\"            : [ 0.0, 0.1],\n",
        " \"colsample_bytree\" : [ 0.3, 0.4] }\n",
        "\n",
        "# passing data for hyper parameter tunning with Randomized search cv\n",
        "\n",
        "random_Search(XGBClassifier(),X_train,y_train,param_grid=XGB_para_grid)\n"
      ]
    },
    {
      "cell_type": "markdown",
      "metadata": {
        "id": "4xtFDlf8cOwy"
      },
      "source": [
        "# Using the tuned parameters and training the models"
      ]
    },
    {
      "cell_type": "markdown",
      "metadata": {
        "id": "WB8es_gWcOwy"
      },
      "source": [
        "## Gradient Boosting Classifier"
      ]
    },
    {
      "cell_type": "code",
      "execution_count": null,
      "metadata": {
        "id": "a3rz5rXucOwy",
        "outputId": "adf3eef2-fb9c-4dcf-a61e-8bb471de395e",
        "colab": {
          "base_uri": "https://localhost:8080/",
          "height": 701
        }
      },
      "outputs": [
        {
          "output_type": "stream",
          "name": "stdout",
          "text": [
            "Classification Report \n",
            "               precision    recall  f1-score   support\n",
            "\n",
            "           0       1.00      1.00      1.00         3\n",
            "           1       0.68      0.38      0.49        74\n",
            "           3       0.62      0.37      0.46       444\n",
            "           4       0.89      0.97      0.93      3030\n",
            "           5       0.74      0.32      0.45        91\n",
            "\n",
            "    accuracy                           0.87      3642\n",
            "   macro avg       0.79      0.61      0.66      3642\n",
            "weighted avg       0.85      0.87      0.85      3642\n",
            "\n",
            "CPU times: user 1min 47s, sys: 163 ms, total: 1min 47s\n",
            "Wall time: 1min 47s\n"
          ]
        },
        {
          "output_type": "display_data",
          "data": {
            "text/plain": [
              "<Figure size 576x432 with 1 Axes>"
            ],
            "image/png": "[encoded data removed]"
          },
          "metadata": {
            "needs_background": "light"
          }
        }
      ],
      "source": [
        "%%time\n",
        "\n",
        "# Instantiate the model\n",
        "GBR_clf = GradientBoostingClassifier(**{'n_estimators':300,'min_samples_split':5,'max_depth':6,'learning_rate':0.2})\n",
        "\n",
        "\n",
        "# fitting the model on train data\n",
        "\n",
        "GBR_clf.fit(X_train,y_train)\n",
        "\n",
        "# print score of the model\n",
        "print_score(GBR_clf)\n",
        "\n",
        "# visualizing importance of features\n",
        "fig, ax = visualize_importance(GBR_clf.feature_importances_,X)\n",
        "\n"
      ]
    },
    {
      "cell_type": "markdown",
      "metadata": {
        "id": "OUST0kHfcOwy"
      },
      "source": [
        "## Random Forest Classifier"
      ]
    },
    {
      "cell_type": "code",
      "execution_count": null,
      "metadata": {
        "id": "oP9HK1N6cOwy",
        "outputId": "18704d96-7976-4d6a-baa4-ddde56bd2706",
        "colab": {
          "base_uri": "https://localhost:8080/",
          "height": 701
        }
      },
      "outputs": [
        {
          "output_type": "stream",
          "name": "stdout",
          "text": [
            "Classification Report \n",
            "               precision    recall  f1-score   support\n",
            "\n",
            "           0       1.00      1.00      1.00         3\n",
            "           1       1.00      0.35      0.52        74\n",
            "           3       0.88      0.31      0.46       444\n",
            "           4       0.88      1.00      0.93      3030\n",
            "           5       1.00      0.32      0.48        91\n",
            "\n",
            "    accuracy                           0.88      3642\n",
            "   macro avg       0.95      0.60      0.68      3642\n",
            "weighted avg       0.89      0.88      0.86      3642\n",
            "\n",
            "CPU times: user 7.04 s, sys: 20.8 ms, total: 7.07 s\n",
            "Wall time: 7.94 s\n"
          ]
        },
        {
          "output_type": "display_data",
          "data": {
            "text/plain": [
              "<Figure size 576x432 with 1 Axes>"
            ],
            "image/png": "[encoded data removed]"
          },
          "metadata": {
            "needs_background": "light"
          }
        }
      ],
      "source": [
        "%%time\n",
        "\n",
        "# Instantiate the model\n",
        "rf_clf = RandomForestClassifier(**{'n_estimators':200,'min_samples_split':2,'min_samples_leaf':1,'max_features':'sqrt'})\n",
        "\n",
        "\n",
        "# fitting the model on train data\n",
        "\n",
        "rf_clf.fit(X_train,y_train)\n",
        "\n",
        "# print score of the model\n",
        "print_score(rf_clf)\n",
        "\n",
        "\n",
        "# visualizing importance of features\n",
        "fig, ax = visualize_importance(rf_clf.feature_importances_,X)\n",
        "\n"
      ]
    },
    {
      "cell_type": "markdown",
      "metadata": {
        "id": "y44qIwGwcOwy"
      },
      "source": [
        "## Adaboost Classifier"
      ]
    },
    {
      "cell_type": "code",
      "execution_count": null,
      "metadata": {
        "id": "3BfYIgV9cOwy",
        "outputId": "64c41304-062b-4348-89f8-e13f4598da72",
        "colab": {
          "base_uri": "https://localhost:8080/",
          "height": 701
        }
      },
      "outputs": [
        {
          "output_type": "stream",
          "name": "stdout",
          "text": [
            "Classification Report \n",
            "               precision    recall  f1-score   support\n",
            "\n",
            "           0       1.00      1.00      1.00         3\n",
            "           1       0.00      0.00      0.00        74\n",
            "           3       0.00      0.00      0.00       444\n",
            "           4       0.83      1.00      0.91      3030\n",
            "           5       0.00      0.00      0.00        91\n",
            "\n",
            "    accuracy                           0.83      3642\n",
            "   macro avg       0.37      0.40      0.38      3642\n",
            "weighted avg       0.69      0.83      0.76      3642\n",
            "\n",
            "CPU times: user 6.97 s, sys: 55.9 ms, total: 7.03 s\n",
            "Wall time: 7.02 s\n"
          ]
        },
        {
          "output_type": "display_data",
          "data": {
            "text/plain": [
              "<Figure size 576x432 with 1 Axes>"
            ],
            "image/png": "[encoded data removed]"
          },
          "metadata": {
            "needs_background": "light"
          }
        }
      ],
      "source": [
        "%%time\n",
        "\n",
        "# Instantiate the model\n",
        "Ada_clf = AdaBoostClassifier(**{'n_estimators':300,'learning_rate':0.01})\n",
        "\n",
        "\n",
        "# fitting the model on train data\n",
        "\n",
        "Ada_clf.fit(X_train,y_train)\n",
        "\n",
        "\n",
        "# print score of the model\n",
        "print_score(Ada_clf)\n",
        "\n",
        "\n",
        "# visualizing importance of features\n",
        "fig, ax = visualize_importance(Ada_clf.feature_importances_,X)\n",
        "\n"
      ]
    },
    {
      "cell_type": "markdown",
      "metadata": {
        "id": "dqva2tejtkOT"
      },
      "source": [
        "### Now working with the test dataset provided"
      ]
    },
    {
      "cell_type": "code",
      "execution_count": null,
      "metadata": {
        "id": "Jup93ykka7Rd"
      },
      "outputs": [],
      "source": [
        "# preparing test data as similarly as done for train data before.\n",
        "test_df['hour'] = pd.to_datetime(test_df['time'].astype(int),unit='s').dt.hour\n",
        "\n",
        "test_df['month'] = pd.to_datetime(test_df['time'].astype(int),unit='s').dt.month\n",
        "\n",
        "test_df['day'] = pd.to_datetime(test_df['time'].astype(int),unit='s').dt.day\n",
        "\n",
        "test_df['year'] = pd.to_datetime(test_df['time'].astype(int),unit='s').dt.year\n",
        "\n",
        "test_df['minute'] = pd.to_datetime(test_df['time'].astype(int),unit='s').dt.minute\n",
        "\n",
        "test_df = test_df.drop(['time'],1)\n"
      ]
    },
    {
      "cell_type": "code",
      "execution_count": null,
      "metadata": {
        "id": "f0HlwqEia7Ov"
      },
      "outputs": [],
      "source": [
        "X_test = test_df"
      ]
    },
    {
      "cell_type": "code",
      "execution_count": null,
      "metadata": {
        "colab": {
          "base_uri": "https://localhost:8080/"
        },
        "id": "sul5uJAiChdQ",
        "outputId": "7a12a902-27d1-4321-abb4-a0de7982ee42"
      },
      "outputs": [
        {
          "output_type": "execute_result",
          "data": {
            "text/plain": [
              "Index(['Store_Ratio', 'Basket_Ratio', 'Category_1', 'Store_Score',\n",
              "       'Category_2', 'Store_Presence', 'Score_1', 'Score_2', 'Score_3',\n",
              "       'Score_4', 'hour', 'month', 'day', 'year', 'minute'],\n",
              "      dtype='object')"
            ]
          },
          "metadata": {},
          "execution_count": 155
        }
      ],
      "source": [
        "# check columns of test data\n",
        "\n",
        "X_test.columns"
      ]
    },
    {
      "cell_type": "code",
      "execution_count": null,
      "metadata": {
        "id": "YP-9GCwJa7JS"
      },
      "outputs": [],
      "source": [
        "# passing test data for scaling\n",
        "col_X_test = ['Store_Ratio', 'Basket_Ratio', 'Category_1', 'Store_Score',\n",
        "       'Category_2', 'Store_Presence', 'Score_1', 'Score_2', 'Score_3',\n",
        "       'Score_4']\n",
        "X_test = scale_data(X_test,col_X_test)\n",
        "\n"
      ]
    },
    {
      "cell_type": "code",
      "execution_count": null,
      "metadata": {
        "id": "MgGLvpJWa7Ch"
      },
      "outputs": [],
      "source": [
        "# Perforn the prediction on the test dataset\n",
        "y_predicted = voting_clf.predict(X_test)\n",
        "\n",
        "\n"
      ]
    },
    {
      "cell_type": "code",
      "execution_count": null,
      "metadata": {
        "id": "cmstetPLa6_R"
      },
      "outputs": [],
      "source": [
        "# creating a dataframe of predicted results \n",
        "predictions = pd.DataFrame(y_predicted)\n"
      ]
    },
    {
      "cell_type": "code",
      "execution_count": null,
      "metadata": {
        "colab": {
          "base_uri": "https://localhost:8080/",
          "height": 206
        },
        "id": "2ta_gCbha68M",
        "outputId": "597d6955-69ce-4ba2-ed3b-9f6622acb8cd"
      },
      "outputs": [
        {
          "output_type": "execute_result",
          "data": {
            "text/plain": [
              "   0\n",
              "0  4\n",
              "1  4\n",
              "2  4\n",
              "3  4\n",
              "4  4"
            ],
            "text/html": [
              "\n",
              "  <div id=\"df-c7032996-b731-486b-8a13-b17723f096e6\">\n",
              "    <div class=\"colab-df-container\">\n",
              "      <div>\n",
              "<style scoped>\n",
              "    .dataframe tbody tr th:only-of-type {\n",
              "        vertical-align: middle;\n",
              "    }\n",
              "\n",
              "    .dataframe tbody tr th {\n",
              "        vertical-align: top;\n",
              "    }\n",
              "\n",
              "    .dataframe thead th {\n",
              "        text-align: right;\n",
              "    }\n",
              "</style>\n",
              "<table border=\"1\" class=\"dataframe\">\n",
              "  <thead>\n",
              "    <tr style=\"text-align: right;\">\n",
              "      <th></th>\n",
              "      <th>0</th>\n",
              "    </tr>\n",
              "  </thead>\n",
              "  <tbody>\n",
              "    <tr>\n",
              "      <th>0</th>\n",
              "      <td>4</td>\n",
              "    </tr>\n",
              "    <tr>\n",
              "      <th>1</th>\n",
              "      <td>4</td>\n",
              "    </tr>\n",
              "    <tr>\n",
              "      <th>2</th>\n",
              "      <td>4</td>\n",
              "    </tr>\n",
              "    <tr>\n",
              "      <th>3</th>\n",
              "      <td>4</td>\n",
              "    </tr>\n",
              "    <tr>\n",
              "      <th>4</th>\n",
              "      <td>4</td>\n",
              "    </tr>\n",
              "  </tbody>\n",
              "</table>\n",
              "</div>\n",
              "      <button class=\"colab-df-convert\" onclick=\"convertToInteractive('df-c7032996-b731-486b-8a13-b17723f096e6')\"\n",
              "              title=\"Convert this dataframe to an interactive table.\"\n",
              "              style=\"display:none;\">\n",
              "        \n",
              "  <svg xmlns=\"http://www.w3.org/2000/svg\" height=\"24px\"viewBox=\"0 0 24 24\"\n",
              "       width=\"24px\">\n",
              "    <path d=\"M0 0h24v24H0V0z\" fill=\"none\"/>\n",
              "    <path d=\"M18.56 5.44l.94 2.06.94-2.06 2.06-.94-2.06-.94-.94-2.06-.94 2.06-2.06.94zm-11 1L8.5 8.5l.94-2.06 2.06-.94-2.06-.94L8.5 2.5l-.94 2.06-2.06.94zm10 10l.94 2.06.94-2.06 2.06-.94-2.06-.94-.94-2.06-.94 2.06-2.06.94z\"/><path d=\"M17.41 7.96l-1.37-1.37c-.4-.4-.92-.59-1.43-.59-.52 0-1.04.2-1.43.59L10.3 9.45l-7.72 7.72c-.78.78-.78 2.05 0 2.83L4 21.41c.39.39.9.59 1.41.59.51 0 1.02-.2 1.41-.59l7.78-7.78 2.81-2.81c.8-.78.8-2.07 0-2.86zM5.41 20L4 18.59l7.72-7.72 1.47 1.35L5.41 20z\"/>\n",
              "  </svg>\n",
              "      </button>\n",
              "      \n",
              "  <style>\n",
              "    .colab-df-container {\n",
              "      display:flex;\n",
              "      flex-wrap:wrap;\n",
              "      gap: 12px;\n",
              "    }\n",
              "\n",
              "    .colab-df-convert {\n",
              "      background-color: #E8F0FE;\n",
              "      border: none;\n",
              "      border-radius: 50%;\n",
              "      cursor: pointer;\n",
              "      display: none;\n",
              "      fill: #1967D2;\n",
              "      height: 32px;\n",
              "      padding: 0 0 0 0;\n",
              "      width: 32px;\n",
              "    }\n",
              "\n",
              "    .colab-df-convert:hover {\n",
              "      background-color: #E2EBFA;\n",
              "      box-shadow: 0px 1px 2px rgba(60, 64, 67, 0.3), 0px 1px 3px 1px rgba(60, 64, 67, 0.15);\n",
              "      fill: #174EA6;\n",
              "    }\n",
              "\n",
              "    [theme=dark] .colab-df-convert {\n",
              "      background-color: #3B4455;\n",
              "      fill: #D2E3FC;\n",
              "    }\n",
              "\n",
              "    [theme=dark] .colab-df-convert:hover {\n",
              "      background-color: #434B5C;\n",
              "      box-shadow: 0px 1px 3px 1px rgba(0, 0, 0, 0.15);\n",
              "      filter: drop-shadow(0px 1px 2px rgba(0, 0, 0, 0.3));\n",
              "      fill: #FFFFFF;\n",
              "    }\n",
              "  </style>\n",
              "\n",
              "      <script>\n",
              "        const buttonEl =\n",
              "          document.querySelector('#df-c7032996-b731-486b-8a13-b17723f096e6 button.colab-df-convert');\n",
              "        buttonEl.style.display =\n",
              "          google.colab.kernel.accessAllowed ? 'block' : 'none';\n",
              "\n",
              "        async function convertToInteractive(key) {\n",
              "          const element = document.querySelector('#df-c7032996-b731-486b-8a13-b17723f096e6');\n",
              "          const dataTable =\n",
              "            await google.colab.kernel.invokeFunction('convertToInteractive',\n",
              "                                                     [key], {});\n",
              "          if (!dataTable) return;\n",
              "\n",
              "          const docLinkHtml = 'Like what you see? Visit the ' +\n",
              "            '<a target=\"_blank\" href=https://colab.research.google.com/notebooks/data_table.ipynb>data table notebook</a>'\n",
              "            + ' to learn more about interactive tables.';\n",
              "          element.innerHTML = '';\n",
              "          dataTable['output_type'] = 'display_data';\n",
              "          await google.colab.output.renderOutput(dataTable, element);\n",
              "          const docLink = document.createElement('div');\n",
              "          docLink.innerHTML = docLinkHtml;\n",
              "          element.appendChild(docLink);\n",
              "        }\n",
              "      </script>\n",
              "    </div>\n",
              "  </div>\n",
              "  "
            ]
          },
          "metadata": {},
          "execution_count": 161
        }
      ],
      "source": [
        "# predicted values in dataframe\n",
        "\n",
        "predictions.head()"
      ]
    },
    {
      "cell_type": "markdown",
      "metadata": {
        "id": "KS_UvmEjKoyN"
      },
      "source": [
        "### CONCLUSION\n",
        "\n",
        "We have performed EDA, preprocessing, build different models, visualized feature importance, did hyper parameter tunning of each model and did prediction.\n",
        "store ratio is most important data in the dataset.\n",
        "we used  voting classifier for prediction"
      ]
    }
  ],
  "metadata": {
    "colab": {
      "collapsed_sections": [],
      "provenance": []
    },
    "kernelspec": {
      "display_name": "Python 3",
      "language": "python",
      "name": "python3"
    },
    "language_info": {
      "codemirror_mode": {
        "name": "ipython",
        "version": 3
      },
      "file_extension": ".py",
      "mimetype": "text/x-python",
      "name": "python",
      "nbconvert_exporter": "python",
      "pygments_lexer": "ipython3",
      "version": "3.8.8"
    }
  },
  "nbformat": 4,
  "nbformat_minor": 0
}